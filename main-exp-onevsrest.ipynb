{
 "cells": [
  {
   "attachments": {},
   "cell_type": "markdown",
   "metadata": {},
   "source": [
    "#### Import"
   ]
  },
  {
   "cell_type": "code",
   "execution_count": 2,
   "metadata": {},
   "outputs": [],
   "source": [
    "import pandas as pd\n",
    "import pyshark as ps\n",
    "import numpy as np\n",
    "import time\n",
    "import multiprocessing\n",
    "from glob import glob\n",
    "from datetime import timedelta\n",
    "from tqdm.notebook import tqdm\n",
    "import os\n",
    "\n",
    "#Import sklearn\n",
    "from sklearn.model_selection import train_test_split\n",
    "from sklearn.metrics import f1_score, precision_score, accuracy_score, recall_score, confusion_matrix\n",
    "from sklearn.ensemble import RandomForestClassifier\n",
    "from sklearn.multiclass import OneVsRestClassifier\n",
    "import pickle\n",
    "from sklearn.impute import SimpleImputer\n",
    "from sklearn.feature_selection import r_regression"
   ]
  },
  {
   "attachments": {},
   "cell_type": "markdown",
   "metadata": {},
   "source": [
    "#### Functions"
   ]
  },
  {
   "cell_type": "code",
   "execution_count": 3,
   "metadata": {},
   "outputs": [],
   "source": [
    "def get_model():\n",
    "    model = RandomForestClassifier(\n",
    "        n_estimators=100,\n",
    "        criterion='gini',\n",
    "        # max_depth=5,\n",
    "        min_samples_split=10,\n",
    "        min_samples_leaf=2,\n",
    "        min_weight_fraction_leaf=0.0,\n",
    "        max_features='auto',\n",
    "        max_leaf_nodes=None,\n",
    "        min_impurity_decrease=0.0,\n",
    "        # min_impurity_split=None,\n",
    "        bootstrap=True,\n",
    "        oob_score=False,\n",
    "        n_jobs=-1,\n",
    "        random_state=0,\n",
    "        verbose=0,\n",
    "        warm_start=False,\n",
    "        class_weight='balanced'\n",
    "    )\n",
    "    return model\n",
    "\n",
    "def filter_label(df, i):\n",
    "    if i==0:\n",
    "        df = df.loc[df['label'] != 'Smart Plug 2']\n",
    "    elif i==1: \n",
    "        df = df.loc[(df['label'] == 'Amazon Echo') | (df['label'] == 'Belkin wemo motion sensor') | (df['label'] == 'Belkin Wemo switch') | (df['label'] == 'HP Printer') | \n",
    "        (df['label'] == 'Insteon Camera') | (df['label'] == 'Light Bulbs LiFX Smart Bulb') | (df['label'] == 'NEST Protect smoke alarm') | (df['label'] == 'Netatmo weather station') |\n",
    "        (df['label'] == 'Samsung SmartCam') | (df['label'] == 'Smart Things') | (df['label'] == 'Triby Speaker') | (df['label'] == 'Withings Smart scale')]\n",
    "\n",
    "    df = df.ffill().bfill()\n",
    "    return df\n",
    "\n",
    "def features_selection(df):\n",
    "    df = df[['avg_payload_1_second', 'fma5_sum', 'fma5_mean', 'fma5_variance', 'fma5_std','range_5', 'max_payload', 'label']].copy()\n",
    "    df = df.fillna(method='ffill')\n",
    "    \n",
    "    return df\n",
    "\n",
    "def features_full(df):\n",
    "    df = df.copy()\n",
    "    df = df.fillna(method='ffill')\n",
    "    \n",
    "    return df\n",
    "\n",
    "def test_split(df):\n",
    "    X = df.iloc[:, :-1]\n",
    "    y = df.iloc[:, -1]\n",
    "\n",
    "    return X,y"
   ]
  },
  {
   "attachments": {},
   "cell_type": "markdown",
   "metadata": {},
   "source": [
    "#### PRIVATE"
   ]
  },
  {
   "attachments": {},
   "cell_type": "markdown",
   "metadata": {},
   "source": [
    "##### Week 1"
   ]
  },
  {
   "cell_type": "code",
   "execution_count": null,
   "metadata": {},
   "outputs": [],
   "source": [
    "pickle_file = r'D:\\Master\\model\\private_1_time.sav'\n",
    "clf_priv = pickle.load(open(pickle_file, 'rb'))"
   ]
  },
  {
   "cell_type": "code",
   "execution_count": 5,
   "metadata": {},
   "outputs": [],
   "source": [
    "df_priv_1 = pd.read_csv(r'D:\\Master\\datasets\\main-exp\\combined\\Private\\combined_1.csv')\n",
    "df_priv_1 = filter_label(df_priv_1, 0)\n",
    "df_priv_1_cut = features_selection(df_priv_1)\n",
    "X_priv_1, y_priv_1 = test_split(df_priv_1_cut)"
   ]
  },
  {
   "cell_type": "code",
   "execution_count": 6,
   "metadata": {},
   "outputs": [
    {
     "data": {
      "text/plain": [
       "array([0, 0, 0, ..., 4, 4, 4])"
      ]
     },
     "execution_count": 6,
     "metadata": {},
     "output_type": "execute_result"
    }
   ],
   "source": [
    "from sklearn import preprocessing\n",
    "le = preprocessing.LabelEncoder()\n",
    "y=le.fit_transform(y_priv_1)\n",
    "y"
   ]
  },
  {
   "cell_type": "code",
   "execution_count": 53,
   "metadata": {},
   "outputs": [
    {
     "data": {
      "text/html": [
       "<div>\n",
       "<style scoped>\n",
       "    .dataframe tbody tr th:only-of-type {\n",
       "        vertical-align: middle;\n",
       "    }\n",
       "\n",
       "    .dataframe tbody tr th {\n",
       "        vertical-align: top;\n",
       "    }\n",
       "\n",
       "    .dataframe thead th {\n",
       "        text-align: right;\n",
       "    }\n",
       "</style>\n",
       "<table border=\"1\" class=\"dataframe\">\n",
       "  <thead>\n",
       "    <tr style=\"text-align: right;\">\n",
       "      <th></th>\n",
       "      <th>avg_payload_1_second</th>\n",
       "      <th>fma5_sum</th>\n",
       "      <th>fma5_mean</th>\n",
       "      <th>fma5_variance</th>\n",
       "      <th>fma5_std</th>\n",
       "      <th>range_5</th>\n",
       "      <th>max_payload</th>\n",
       "    </tr>\n",
       "  </thead>\n",
       "  <tbody>\n",
       "    <tr>\n",
       "      <th>0</th>\n",
       "      <td>30.666667</td>\n",
       "      <td>184.0</td>\n",
       "      <td>36.800000</td>\n",
       "      <td>423.200000</td>\n",
       "      <td>20.571825</td>\n",
       "      <td>46.0</td>\n",
       "      <td>1460</td>\n",
       "    </tr>\n",
       "    <tr>\n",
       "      <th>1</th>\n",
       "      <td>23.000000</td>\n",
       "      <td>138.0</td>\n",
       "      <td>27.600000</td>\n",
       "      <td>634.800000</td>\n",
       "      <td>25.195238</td>\n",
       "      <td>46.0</td>\n",
       "      <td>1460</td>\n",
       "    </tr>\n",
       "    <tr>\n",
       "      <th>2</th>\n",
       "      <td>0.000000</td>\n",
       "      <td>140.0</td>\n",
       "      <td>28.000000</td>\n",
       "      <td>654.000000</td>\n",
       "      <td>25.573424</td>\n",
       "      <td>48.0</td>\n",
       "      <td>1460</td>\n",
       "    </tr>\n",
       "    <tr>\n",
       "      <th>3</th>\n",
       "      <td>0.000000</td>\n",
       "      <td>173.0</td>\n",
       "      <td>34.600000</td>\n",
       "      <td>409.800000</td>\n",
       "      <td>20.243517</td>\n",
       "      <td>48.0</td>\n",
       "      <td>1460</td>\n",
       "    </tr>\n",
       "    <tr>\n",
       "      <th>4</th>\n",
       "      <td>23.000000</td>\n",
       "      <td>173.0</td>\n",
       "      <td>34.600000</td>\n",
       "      <td>409.800000</td>\n",
       "      <td>20.243517</td>\n",
       "      <td>48.0</td>\n",
       "      <td>1460</td>\n",
       "    </tr>\n",
       "    <tr>\n",
       "      <th>...</th>\n",
       "      <td>...</td>\n",
       "      <td>...</td>\n",
       "      <td>...</td>\n",
       "      <td>...</td>\n",
       "      <td>...</td>\n",
       "      <td>...</td>\n",
       "      <td>...</td>\n",
       "    </tr>\n",
       "    <tr>\n",
       "      <th>2510573</th>\n",
       "      <td>0.000000</td>\n",
       "      <td>821.0</td>\n",
       "      <td>164.200000</td>\n",
       "      <td>2832.200000</td>\n",
       "      <td>53.218418</td>\n",
       "      <td>119.0</td>\n",
       "      <td>405</td>\n",
       "    </tr>\n",
       "    <tr>\n",
       "      <th>2510574</th>\n",
       "      <td>0.000000</td>\n",
       "      <td>633.0</td>\n",
       "      <td>158.250000</td>\n",
       "      <td>3540.250000</td>\n",
       "      <td>59.500000</td>\n",
       "      <td>119.0</td>\n",
       "      <td>405</td>\n",
       "    </tr>\n",
       "    <tr>\n",
       "      <th>2510575</th>\n",
       "      <td>69.000000</td>\n",
       "      <td>445.0</td>\n",
       "      <td>148.333333</td>\n",
       "      <td>4720.333333</td>\n",
       "      <td>68.704682</td>\n",
       "      <td>119.0</td>\n",
       "      <td>405</td>\n",
       "    </tr>\n",
       "    <tr>\n",
       "      <th>2510576</th>\n",
       "      <td>0.000000</td>\n",
       "      <td>376.0</td>\n",
       "      <td>188.000000</td>\n",
       "      <td>0.000000</td>\n",
       "      <td>0.000000</td>\n",
       "      <td>0.0</td>\n",
       "      <td>405</td>\n",
       "    </tr>\n",
       "    <tr>\n",
       "      <th>2510577</th>\n",
       "      <td>0.000000</td>\n",
       "      <td>188.0</td>\n",
       "      <td>188.000000</td>\n",
       "      <td>0.000000</td>\n",
       "      <td>0.000000</td>\n",
       "      <td>0.0</td>\n",
       "      <td>405</td>\n",
       "    </tr>\n",
       "  </tbody>\n",
       "</table>\n",
       "<p>2510578 rows × 7 columns</p>\n",
       "</div>"
      ],
      "text/plain": [
       "         avg_payload_1_second  fma5_sum   fma5_mean  fma5_variance   fma5_std  \\\n",
       "0                   30.666667     184.0   36.800000     423.200000  20.571825   \n",
       "1                   23.000000     138.0   27.600000     634.800000  25.195238   \n",
       "2                    0.000000     140.0   28.000000     654.000000  25.573424   \n",
       "3                    0.000000     173.0   34.600000     409.800000  20.243517   \n",
       "4                   23.000000     173.0   34.600000     409.800000  20.243517   \n",
       "...                       ...       ...         ...            ...        ...   \n",
       "2510573              0.000000     821.0  164.200000    2832.200000  53.218418   \n",
       "2510574              0.000000     633.0  158.250000    3540.250000  59.500000   \n",
       "2510575             69.000000     445.0  148.333333    4720.333333  68.704682   \n",
       "2510576              0.000000     376.0  188.000000       0.000000   0.000000   \n",
       "2510577              0.000000     188.0  188.000000       0.000000   0.000000   \n",
       "\n",
       "         range_5  max_payload  \n",
       "0           46.0         1460  \n",
       "1           46.0         1460  \n",
       "2           48.0         1460  \n",
       "3           48.0         1460  \n",
       "4           48.0         1460  \n",
       "...          ...          ...  \n",
       "2510573    119.0          405  \n",
       "2510574    119.0          405  \n",
       "2510575    119.0          405  \n",
       "2510576      0.0          405  \n",
       "2510577      0.0          405  \n",
       "\n",
       "[2510578 rows x 7 columns]"
      ]
     },
     "execution_count": 53,
     "metadata": {},
     "output_type": "execute_result"
    }
   ],
   "source": [
    "X_priv_1"
   ]
  },
  {
   "cell_type": "code",
   "execution_count": 56,
   "metadata": {},
   "outputs": [],
   "source": [
    "regression = r_regression(X_priv_1, y)"
   ]
  },
  {
   "cell_type": "code",
   "execution_count": 58,
   "metadata": {},
   "outputs": [
    {
     "data": {
      "text/plain": [
       "array([-0.10889866, -0.09048064, -0.09047919, -0.08384815, -0.08440375,\n",
       "       -0.08955199, -0.41554773])"
      ]
     },
     "execution_count": 58,
     "metadata": {},
     "output_type": "execute_result"
    }
   ],
   "source": [
    "regression"
   ]
  },
  {
   "cell_type": "code",
   "execution_count": 60,
   "metadata": {},
   "outputs": [],
   "source": [
    "df_priv_1_cut_2 = features_full(df_priv_1)\n",
    "X_priv_1_2, y_priv_1_2 = test_split(df_priv_1_cut_2)\n",
    "X_priv_1_2.drop(columns=['IAT_dt'], inplace=True)\n",
    "regression2 = r_regression(X_priv_1_2, y)"
   ]
  },
  {
   "cell_type": "code",
   "execution_count": 62,
   "metadata": {},
   "outputs": [
    {
     "data": {
      "text/plain": [
       "array([ 0.33386382, -0.08435976, -0.00230579, -0.09048064, -0.09047919,\n",
       "       -0.08384815, -0.08440375, -0.09319095, -0.09318802, -0.1196786 ,\n",
       "       -0.11808422, -0.09575241, -0.0957467 , -0.15615495, -0.16241966,\n",
       "       -0.09784563, -0.09783839, -0.18997117, -0.21708066, -0.09986228,\n",
       "       -0.09987003, -0.21866506, -0.28310784, -0.41554773, -0.16031851,\n",
       "       -0.08955199, -0.129768  , -0.18642664, -0.27463348, -0.41938691,\n",
       "        0.0686255 , -0.15739504, -0.14884152, -0.21672271, -0.12704045,\n",
       "        0.0686255 , -0.15739504, -0.14884152, -0.21672271, -0.12704045,\n",
       "       -0.03789975, -0.31626469, -0.30909709, -0.24539035, -0.26663051,\n",
       "        0.        ,  0.        ,  0.        ,  0.        ,  0.        ,\n",
       "       -0.22999457, -0.10889866, -0.09752004, -0.09280505])"
      ]
     },
     "execution_count": 62,
     "metadata": {},
     "output_type": "execute_result"
    }
   ],
   "source": [
    "regression2"
   ]
  },
  {
   "cell_type": "code",
   "execution_count": 7,
   "metadata": {},
   "outputs": [
    {
     "name": "stdout",
     "output_type": "stream",
     "text": [
      "training....start time:  1672729095.4719448\n",
      "time taken:  274.19202733039856\n"
     ]
    }
   ],
   "source": [
    "rf_model = get_model()\n",
    "start = time.time()\n",
    "print('training....start time: ', start)\n",
    "clf_priv = OneVsRestClassifier(rf_model, n_jobs=-1).fit(X_priv_1, y_priv_1)\n",
    "stop = time.time() \n",
    "print('time taken: ', stop-start)\n",
    "\n",
    "pickle_file = r'D:\\Master\\model\\private_1_time.sav'\n",
    "pickle.dump(clf_priv, open(pickle_file, 'wb'))"
   ]
  },
  {
   "cell_type": "code",
   "execution_count": 8,
   "metadata": {},
   "outputs": [],
   "source": [
    "y_pred_priv_1 = clf_priv.predict(X_priv_1)"
   ]
  },
  {
   "cell_type": "code",
   "execution_count": 9,
   "metadata": {},
   "outputs": [
    {
     "name": "stdout",
     "output_type": "stream",
     "text": [
      "accuracy:  0.9950202702325919\n",
      "f1:  0.9950351139396658\n",
      "precision:  0.995078365746062\n",
      "recall:  0.9950202702325919\n"
     ]
    }
   ],
   "source": [
    "print('accuracy: ', accuracy_score(y_priv_1, y_pred_priv_1))\n",
    "print('f1: ', f1_score(y_priv_1, y_pred_priv_1, average='weighted'))\n",
    "print('precision: ', precision_score(y_priv_1, y_pred_priv_1, average='weighted'))\n",
    "print('recall: ', recall_score(y_priv_1, y_pred_priv_1, average='weighted'))"
   ]
  },
  {
   "cell_type": "code",
   "execution_count": 66,
   "metadata": {},
   "outputs": [
    {
     "name": "stdout",
     "output_type": "stream",
     "text": [
      "['Alexa Echo Dot', 'Mi Air Purifier', 'Mi Box 3', 'Mi Home Security Camera', 'Smart Plug 1']\n",
      "[[ 320665       0    1966     278       0]\n",
      " [      0   56289       0       0       0]\n",
      " [   7621       0 1417569    1390       0]\n",
      " [    750       0     497  524859       0]\n",
      " [      0       0       0       0  178694]]\n"
     ]
    }
   ],
   "source": [
    "print(sorted(y_priv_1.unique()))\n",
    "cm = confusion_matrix(y_priv_1, y_pred_priv_1, labels=sorted(y_priv_1.unique()))\n",
    "print(cm)"
   ]
  },
  {
   "cell_type": "code",
   "execution_count": 14,
   "metadata": {},
   "outputs": [
    {
     "name": "stdout",
     "output_type": "stream",
     "text": [
      "row_0\n",
      "Alexa Echo Dot             0.974559\n",
      "Mi Air Purifier            1.000000\n",
      "Mi Box 3                   0.998266\n",
      "Mi Home Security Camera    0.996832\n",
      "Smart Plug 1               1.000000\n",
      "dtype: float64\n"
     ]
    }
   ],
   "source": [
    "def classwise_accuracy():\n",
    "   a = pd.crosstab(y_pred_priv_1,y_priv_1)\n",
    "   print(a.max(axis=1)/a.sum(axis=1))\n",
    "classwise_accuracy()"
   ]
  },
  {
   "cell_type": "code",
   "execution_count": 5,
   "metadata": {},
   "outputs": [
    {
     "name": "stdout",
     "output_type": "stream",
     "text": [
      "training....start time:  1669102355.0590725\n"
     ]
    },
    {
     "name": "stderr",
     "output_type": "stream",
     "text": [
      "c:\\Users\\Shogun-Sama\\codes-and-scripts\\lib\\site-packages\\sklearn\\ensemble\\_forest.py:427: FutureWarning: `max_features='auto'` has been deprecated in 1.1 and will be removed in 1.3. To keep the past behaviour, explicitly set `max_features='sqrt'` or remove this parameter as it is also the default value for RandomForestClassifiers and ExtraTreesClassifiers.\n",
      "  warn(\n"
     ]
    },
    {
     "name": "stdout",
     "output_type": "stream",
     "text": [
      "time taken:  71.29257845878601\n"
     ]
    }
   ],
   "source": [
    "# start = time.time()\n",
    "# print('training....start time: ', start)\n",
    "# clf_priv = rf_model.fit(X_priv_1, y_priv_1)\n",
    "# stop = time.time() \n",
    "# print('time taken: ', stop-start)"
   ]
  },
  {
   "attachments": {},
   "cell_type": "markdown",
   "metadata": {},
   "source": [
    "##### Week 2"
   ]
  },
  {
   "cell_type": "code",
   "execution_count": 15,
   "metadata": {},
   "outputs": [],
   "source": [
    "df_priv_2 = pd.read_csv(r'D:\\Master\\datasets\\main-exp\\combined\\Private\\combined_2.csv')\n",
    "df_priv_2 = filter_label(df_priv_2, 0)\n",
    "df_priv_2_cut = features_selection(df_priv_2)\n",
    "X_priv_2, y_priv_2 = test_split(df_priv_2_cut)"
   ]
  },
  {
   "cell_type": "code",
   "execution_count": 16,
   "metadata": {},
   "outputs": [
    {
     "name": "stdout",
     "output_type": "stream",
     "text": [
      "accuracy:  0.959575199577924\n",
      "f1:  0.9586834269914163\n",
      "precision:  0.9616595154420772\n",
      "recall:  0.959575199577924\n"
     ]
    }
   ],
   "source": [
    "y_pred_priv_2 = clf_priv.predict(X_priv_2)\n",
    "\n",
    "print('accuracy: ', accuracy_score(y_priv_2, y_pred_priv_2))\n",
    "print('f1: ', f1_score(y_priv_2, y_pred_priv_2, average='weighted'))\n",
    "print('precision: ', precision_score(y_priv_2, y_pred_priv_2, average='weighted'))\n",
    "print('recall: ', recall_score(y_priv_2, y_pred_priv_2, average='weighted'))"
   ]
  },
  {
   "cell_type": "code",
   "execution_count": 70,
   "metadata": {},
   "outputs": [
    {
     "name": "stdout",
     "output_type": "stream",
     "text": [
      "['Alexa Echo Dot' 'Mi Air Purifier' 'Mi Box 3' 'Mi Home Security Camera'\n",
      " 'Smart Plug 1']\n",
      "[[ 410805       0   20215    2616       0]\n",
      " [      0   82923       0       0       0]\n",
      " [  34493       0 2242573    8179       0]\n",
      " [   3403       0    6471  615352       0]\n",
      " [  14420       0   10449   49318  198591]]\n"
     ]
    }
   ],
   "source": [
    "print(y_priv_2.unique())\n",
    "cm = confusion_matrix(y_priv_2, y_pred_priv_2)\n",
    "print(cm)"
   ]
  },
  {
   "cell_type": "code",
   "execution_count": 17,
   "metadata": {},
   "outputs": [
    {
     "name": "stdout",
     "output_type": "stream",
     "text": [
      "row_0\n",
      "Alexa Echo Dot             0.887036\n",
      "Mi Air Purifier            1.000000\n",
      "Mi Box 3                   0.983711\n",
      "Mi Home Security Camera    0.911005\n",
      "Smart Plug 1               1.000000\n",
      "dtype: float64\n"
     ]
    }
   ],
   "source": [
    "def classwise_accuracy():\n",
    "   a = pd.crosstab(y_pred_priv_2,y_priv_2)\n",
    "   print(a.max(axis=1)/a.sum(axis=1))\n",
    "classwise_accuracy()"
   ]
  },
  {
   "attachments": {},
   "cell_type": "markdown",
   "metadata": {},
   "source": [
    "##### Week 3"
   ]
  },
  {
   "cell_type": "code",
   "execution_count": 19,
   "metadata": {},
   "outputs": [],
   "source": [
    "df_priv_3 = pd.read_csv(r'D:\\Master\\datasets\\main-exp\\combined\\Private\\combined_3.csv')\n",
    "df_priv_3 = filter_label(df_priv_3, 0)\n",
    "df_priv_3_cut = features_selection(df_priv_3)\n",
    "X_priv_3, y_priv_3 = test_split(df_priv_3_cut)"
   ]
  },
  {
   "cell_type": "code",
   "execution_count": 20,
   "metadata": {},
   "outputs": [
    {
     "name": "stdout",
     "output_type": "stream",
     "text": [
      "accuracy:  0.9781055563129963\n",
      "f1:  0.9783015279616893\n",
      "precision:  0.9787169025931833\n",
      "recall:  0.9781055563129963\n"
     ]
    }
   ],
   "source": [
    "y_pred_priv_3 = clf_priv.predict(X_priv_3)\n",
    "\n",
    "print('accuracy: ', accuracy_score(y_priv_3, y_pred_priv_3))\n",
    "print('f1: ', f1_score(y_priv_3, y_pred_priv_3, average='weighted'))\n",
    "print('precision: ', precision_score(y_priv_3, y_pred_priv_3, average='weighted'))\n",
    "print('recall: ', recall_score(y_priv_3, y_pred_priv_3, average='weighted'))"
   ]
  },
  {
   "cell_type": "code",
   "execution_count": 73,
   "metadata": {},
   "outputs": [
    {
     "name": "stdout",
     "output_type": "stream",
     "text": [
      "['Alexa Echo Dot' 'Mi Air Purifier' 'Mi Box 3' 'Mi Home Security Camera'\n",
      " 'Smart Plug 1']\n",
      "[[ 347526       0   18748    2385       0]\n",
      " [      0  114512       0       0       0]\n",
      " [  38809       0 2144635   11739       0]\n",
      " [   2943       0    2137  571978       0]\n",
      " [      0       0       0       0  250546]]\n"
     ]
    }
   ],
   "source": [
    "print(y_priv_3.unique())\n",
    "cm = confusion_matrix(y_priv_3, y_pred_priv_3)\n",
    "print(cm)"
   ]
  },
  {
   "cell_type": "code",
   "execution_count": 21,
   "metadata": {},
   "outputs": [
    {
     "name": "stdout",
     "output_type": "stream",
     "text": [
      "row_0\n",
      "Alexa Echo Dot             0.892745\n",
      "Mi Air Purifier            1.000000\n",
      "Mi Box 3                   0.990356\n",
      "Mi Home Security Camera    0.975902\n",
      "Smart Plug 1               1.000000\n",
      "dtype: float64\n"
     ]
    }
   ],
   "source": [
    "def classwise_accuracy():\n",
    "   a = pd.crosstab(y_pred_priv_3,y_priv_3)\n",
    "   print(a.max(axis=1)/a.sum(axis=1))\n",
    "classwise_accuracy()"
   ]
  },
  {
   "attachments": {},
   "cell_type": "markdown",
   "metadata": {},
   "source": [
    "##### Week 4"
   ]
  },
  {
   "cell_type": "code",
   "execution_count": 22,
   "metadata": {},
   "outputs": [],
   "source": [
    "df_priv_4 = pd.read_csv(r'D:\\Master\\datasets\\main-exp\\combined\\Private\\combined_4.csv')\n",
    "df_priv_4 = filter_label(df_priv_4, 0)\n",
    "df_priv_4_cut = features_selection(df_priv_4)\n",
    "X_priv_4, y_priv_4 = test_split(df_priv_4_cut)"
   ]
  },
  {
   "cell_type": "code",
   "execution_count": 23,
   "metadata": {},
   "outputs": [
    {
     "name": "stdout",
     "output_type": "stream",
     "text": [
      "accuracy:  0.9673359568864814\n",
      "f1:  0.9672490090693512\n",
      "precision:  0.9673837866257929\n",
      "recall:  0.9673359568864814\n"
     ]
    }
   ],
   "source": [
    "y_pred_priv_4 = clf_priv.predict(X_priv_4)\n",
    "\n",
    "print('accuracy: ', accuracy_score(y_priv_4, y_pred_priv_4))\n",
    "print('f1: ', f1_score(y_priv_4, y_pred_priv_4, average='weighted'))\n",
    "print('precision: ', precision_score(y_priv_4, y_pred_priv_4, average='weighted'))\n",
    "print('recall: ', recall_score(y_priv_4, y_pred_priv_4, average='weighted'))"
   ]
  },
  {
   "cell_type": "code",
   "execution_count": 76,
   "metadata": {},
   "outputs": [
    {
     "name": "stdout",
     "output_type": "stream",
     "text": [
      "['Alexa Echo Dot' 'Mi Air Purifier' 'Mi Box 3' 'Mi Home Security Camera'\n",
      " 'Smart Plug 1']\n",
      "[[365443      0  17404   1834      0]\n",
      " [     0 111428      0      0      0]\n",
      " [ 26872      0 382424   6953      0]\n",
      " [  1922      0   1722 521561      0]\n",
      " [     0      0      0      0 298505]]\n"
     ]
    }
   ],
   "source": [
    "print(y_priv_4.unique())\n",
    "cm = confusion_matrix(y_priv_4, y_pred_priv_4)\n",
    "print(cm)"
   ]
  },
  {
   "cell_type": "code",
   "execution_count": 24,
   "metadata": {},
   "outputs": [
    {
     "name": "stdout",
     "output_type": "stream",
     "text": [
      "row_0\n",
      "Alexa Echo Dot             0.926963\n",
      "Mi Air Purifier            1.000000\n",
      "Mi Box 3                   0.952370\n",
      "Mi Home Security Camera    0.983432\n",
      "Smart Plug 1               1.000000\n",
      "dtype: float64\n"
     ]
    }
   ],
   "source": [
    "def classwise_accuracy():\n",
    "   a = pd.crosstab(y_pred_priv_4,y_priv_4)\n",
    "   print(a.max(axis=1)/a.sum(axis=1))\n",
    "classwise_accuracy()"
   ]
  },
  {
   "attachments": {},
   "cell_type": "markdown",
   "metadata": {},
   "source": [
    "##### Week 5"
   ]
  },
  {
   "cell_type": "code",
   "execution_count": 25,
   "metadata": {},
   "outputs": [],
   "source": [
    "df_priv_5 = pd.read_csv(r'D:\\Master\\datasets\\main-exp\\combined\\Private\\combined_5.csv')\n",
    "df_priv_5 = filter_label(df_priv_5, 0)\n",
    "df_priv_5_cut = features_selection(df_priv_5)\n",
    "X_priv_5, y_priv_5 = test_split(df_priv_5_cut)"
   ]
  },
  {
   "cell_type": "code",
   "execution_count": 26,
   "metadata": {},
   "outputs": [
    {
     "name": "stdout",
     "output_type": "stream",
     "text": [
      "accuracy:  0.9705760518385752\n",
      "f1:  0.9707353781466348\n",
      "precision:  0.9713660705752366\n",
      "recall:  0.9705760518385752\n"
     ]
    }
   ],
   "source": [
    "y_pred_priv_5 = clf_priv.predict(X_priv_5)\n",
    "\n",
    "print('accuracy: ', accuracy_score(y_priv_5, y_pred_priv_5))\n",
    "print('f1: ', f1_score(y_priv_5, y_pred_priv_5, average='weighted'))\n",
    "print('precision: ', precision_score(y_priv_5, y_pred_priv_5, average='weighted'))\n",
    "print('recall: ', recall_score(y_priv_5, y_pred_priv_5, average='weighted'))"
   ]
  },
  {
   "cell_type": "code",
   "execution_count": 79,
   "metadata": {},
   "outputs": [
    {
     "name": "stdout",
     "output_type": "stream",
     "text": [
      "['Alexa Echo Dot' 'Mi Air Purifier' 'Mi Box 3' 'Mi Home Security Camera'\n",
      " 'Smart Plug 1']\n",
      "[[308859      0  12465   1770      0]\n",
      " [     0  69207      0      0      0]\n",
      " [ 31612      0 759546   8050      0]\n",
      " [  2282      0   2280 506176      0]\n",
      " [     0      0      0      0 284536]]\n"
     ]
    }
   ],
   "source": [
    "print(y_priv_5.unique())\n",
    "cm = confusion_matrix(y_priv_5, y_pred_priv_5)\n",
    "print(cm)"
   ]
  },
  {
   "cell_type": "code",
   "execution_count": 27,
   "metadata": {},
   "outputs": [
    {
     "name": "stdout",
     "output_type": "stream",
     "text": [
      "row_0\n",
      "Alexa Echo Dot             0.901112\n",
      "Mi Air Purifier            1.000000\n",
      "Mi Box 3                   0.980957\n",
      "Mi Home Security Camera    0.980969\n",
      "Smart Plug 1               1.000000\n",
      "dtype: float64\n"
     ]
    }
   ],
   "source": [
    "def classwise_accuracy():\n",
    "   a = pd.crosstab(y_pred_priv_5,y_priv_5)\n",
    "   print(a.max(axis=1)/a.sum(axis=1))\n",
    "classwise_accuracy()"
   ]
  },
  {
   "attachments": {},
   "cell_type": "markdown",
   "metadata": {},
   "source": [
    "##### Week 6"
   ]
  },
  {
   "cell_type": "code",
   "execution_count": 28,
   "metadata": {},
   "outputs": [],
   "source": [
    "df_priv_6 = pd.read_csv(r'D:\\Master\\datasets\\main-exp\\combined\\Private\\combined_6.csv')\n",
    "df_priv_6 = filter_label(df_priv_6, 0)\n",
    "df_priv_6_cut = features_selection(df_priv_6)\n",
    "X_priv_6, y_priv_6 = test_split(df_priv_6_cut)"
   ]
  },
  {
   "cell_type": "code",
   "execution_count": 29,
   "metadata": {},
   "outputs": [
    {
     "name": "stdout",
     "output_type": "stream",
     "text": [
      "accuracy:  0.8968551786741732\n",
      "f1:  0.8956480695219535\n",
      "precision:  0.9157073979247665\n",
      "recall:  0.8968551786741732\n"
     ]
    }
   ],
   "source": [
    "y_pred_priv_6 = clf_priv.predict(X_priv_6)\n",
    "\n",
    "print('accuracy: ', accuracy_score(y_priv_6, y_pred_priv_6))\n",
    "print('f1: ', f1_score(y_priv_6, y_pred_priv_6, average='weighted'))\n",
    "print('precision: ', precision_score(y_priv_6, y_pred_priv_6, average='weighted'))\n",
    "print('recall: ', recall_score(y_priv_6, y_pred_priv_6, average='weighted'))"
   ]
  },
  {
   "cell_type": "code",
   "execution_count": 31,
   "metadata": {},
   "outputs": [
    {
     "name": "stdout",
     "output_type": "stream",
     "text": [
      "['Alexa Echo Dot' 'Mi Air Purifier' 'Mi Box 3' 'Mi Home Security Camera'\n",
      " 'Smart Plug 1']\n",
      "[[302731      0  11382   2173      0]\n",
      " [     0  87266      0      0      0]\n",
      " [ 35050      0 496600  13915      0]\n",
      " [  2430      0   2041 474913      0]\n",
      " [ 22449  61137  20848   8559 203470]]\n"
     ]
    }
   ],
   "source": [
    "print(y_priv_6.unique())\n",
    "cm = confusion_matrix(y_priv_6, y_pred_priv_6)\n",
    "print(cm)"
   ]
  },
  {
   "cell_type": "code",
   "execution_count": 30,
   "metadata": {},
   "outputs": [
    {
     "name": "stdout",
     "output_type": "stream",
     "text": [
      "row_0\n",
      "Alexa Echo Dot             0.834752\n",
      "Mi Air Purifier            0.588034\n",
      "Mi Box 3                   0.935444\n",
      "Mi Home Security Camera    0.950663\n",
      "Smart Plug 1               1.000000\n",
      "dtype: float64\n"
     ]
    }
   ],
   "source": [
    "def classwise_accuracy():\n",
    "   a = pd.crosstab(y_pred_priv_6,y_priv_6)\n",
    "   print(a.max(axis=1)/a.sum(axis=1))\n",
    "classwise_accuracy()"
   ]
  },
  {
   "attachments": {},
   "cell_type": "markdown",
   "metadata": {},
   "source": [
    "#### UNSW"
   ]
  },
  {
   "attachments": {},
   "cell_type": "markdown",
   "metadata": {},
   "source": [
    "##### Week 1"
   ]
  },
  {
   "cell_type": "code",
   "execution_count": 9,
   "metadata": {},
   "outputs": [],
   "source": [
    "df_UNSW_1 = pd.read_csv(r'D:\\Master\\datasets\\main-exp-2\\combined\\UNSW\\week_1.csv')\n",
    "df_UNSW_1 = filter_label(df_UNSW_1, 1)\n",
    "df_UNSW_1_cut = features_selection(df_UNSW_1)\n",
    "X_UNSW_1, y_UNSW_1 = test_split(df_UNSW_1_cut)"
   ]
  },
  {
   "cell_type": "code",
   "execution_count": null,
   "metadata": {},
   "outputs": [
    {
     "data": {
      "text/plain": [
       "array([ 0,  0,  0, ..., 11, 11, 11])"
      ]
     },
     "execution_count": 42,
     "metadata": {},
     "output_type": "execute_result"
    }
   ],
   "source": [
    "from sklearn import preprocessing\n",
    "le = preprocessing.LabelEncoder()\n",
    "y=le.fit_transform(y_UNSW_1)\n",
    "y"
   ]
  },
  {
   "cell_type": "code",
   "execution_count": null,
   "metadata": {},
   "outputs": [],
   "source": [
    "regression = r_regression(X_UNSW_1, y)"
   ]
  },
  {
   "cell_type": "code",
   "execution_count": null,
   "metadata": {},
   "outputs": [
    {
     "data": {
      "text/html": [
       "<div>\n",
       "<style scoped>\n",
       "    .dataframe tbody tr th:only-of-type {\n",
       "        vertical-align: middle;\n",
       "    }\n",
       "\n",
       "    .dataframe tbody tr th {\n",
       "        vertical-align: top;\n",
       "    }\n",
       "\n",
       "    .dataframe thead th {\n",
       "        text-align: right;\n",
       "    }\n",
       "</style>\n",
       "<table border=\"1\" class=\"dataframe\">\n",
       "  <thead>\n",
       "    <tr style=\"text-align: right;\">\n",
       "      <th></th>\n",
       "      <th>avg_payload_1_second</th>\n",
       "      <th>fma5_sum</th>\n",
       "      <th>fma5_mean</th>\n",
       "      <th>fma5_variance</th>\n",
       "      <th>fma5_std</th>\n",
       "      <th>range_5</th>\n",
       "      <th>max_payload</th>\n",
       "    </tr>\n",
       "  </thead>\n",
       "  <tbody>\n",
       "    <tr>\n",
       "      <th>0</th>\n",
       "      <td>159.000000</td>\n",
       "      <td>390.0</td>\n",
       "      <td>78.0</td>\n",
       "      <td>5106.0</td>\n",
       "      <td>71.456280</td>\n",
       "      <td>159.0</td>\n",
       "      <td>1460</td>\n",
       "    </tr>\n",
       "    <tr>\n",
       "      <th>1</th>\n",
       "      <td>0.000000</td>\n",
       "      <td>231.0</td>\n",
       "      <td>46.2</td>\n",
       "      <td>3722.7</td>\n",
       "      <td>61.013933</td>\n",
       "      <td>149.0</td>\n",
       "      <td>1460</td>\n",
       "    </tr>\n",
       "    <tr>\n",
       "      <th>2</th>\n",
       "      <td>0.000000</td>\n",
       "      <td>130.0</td>\n",
       "      <td>26.0</td>\n",
       "      <td>571.5</td>\n",
       "      <td>23.906066</td>\n",
       "      <td>48.0</td>\n",
       "      <td>1460</td>\n",
       "    </tr>\n",
       "    <tr>\n",
       "      <th>3</th>\n",
       "      <td>13.666667</td>\n",
       "      <td>137.0</td>\n",
       "      <td>27.4</td>\n",
       "      <td>633.8</td>\n",
       "      <td>25.175385</td>\n",
       "      <td>48.0</td>\n",
       "      <td>1460</td>\n",
       "    </tr>\n",
       "    <tr>\n",
       "      <th>4</th>\n",
       "      <td>20.500000</td>\n",
       "      <td>296.0</td>\n",
       "      <td>59.2</td>\n",
       "      <td>3511.7</td>\n",
       "      <td>59.259598</td>\n",
       "      <td>159.0</td>\n",
       "      <td>1460</td>\n",
       "    </tr>\n",
       "    <tr>\n",
       "      <th>...</th>\n",
       "      <td>...</td>\n",
       "      <td>...</td>\n",
       "      <td>...</td>\n",
       "      <td>...</td>\n",
       "      <td>...</td>\n",
       "      <td>...</td>\n",
       "      <td>...</td>\n",
       "    </tr>\n",
       "    <tr>\n",
       "      <th>1795012</th>\n",
       "      <td>60.000000</td>\n",
       "      <td>300.0</td>\n",
       "      <td>60.0</td>\n",
       "      <td>18000.0</td>\n",
       "      <td>134.164079</td>\n",
       "      <td>300.0</td>\n",
       "      <td>844</td>\n",
       "    </tr>\n",
       "    <tr>\n",
       "      <th>1795013</th>\n",
       "      <td>75.000000</td>\n",
       "      <td>300.0</td>\n",
       "      <td>75.0</td>\n",
       "      <td>22500.0</td>\n",
       "      <td>150.000000</td>\n",
       "      <td>300.0</td>\n",
       "      <td>844</td>\n",
       "    </tr>\n",
       "    <tr>\n",
       "      <th>1795014</th>\n",
       "      <td>100.000000</td>\n",
       "      <td>300.0</td>\n",
       "      <td>100.0</td>\n",
       "      <td>30000.0</td>\n",
       "      <td>173.205081</td>\n",
       "      <td>300.0</td>\n",
       "      <td>844</td>\n",
       "    </tr>\n",
       "    <tr>\n",
       "      <th>1795015</th>\n",
       "      <td>150.000000</td>\n",
       "      <td>300.0</td>\n",
       "      <td>150.0</td>\n",
       "      <td>45000.0</td>\n",
       "      <td>212.132034</td>\n",
       "      <td>300.0</td>\n",
       "      <td>844</td>\n",
       "    </tr>\n",
       "    <tr>\n",
       "      <th>1795016</th>\n",
       "      <td>300.000000</td>\n",
       "      <td>300.0</td>\n",
       "      <td>300.0</td>\n",
       "      <td>45000.0</td>\n",
       "      <td>212.132034</td>\n",
       "      <td>0.0</td>\n",
       "      <td>844</td>\n",
       "    </tr>\n",
       "  </tbody>\n",
       "</table>\n",
       "<p>1795017 rows × 7 columns</p>\n",
       "</div>"
      ],
      "text/plain": [
       "         avg_payload_1_second  fma5_sum  fma5_mean  fma5_variance    fma5_std  \\\n",
       "0                  159.000000     390.0       78.0         5106.0   71.456280   \n",
       "1                    0.000000     231.0       46.2         3722.7   61.013933   \n",
       "2                    0.000000     130.0       26.0          571.5   23.906066   \n",
       "3                   13.666667     137.0       27.4          633.8   25.175385   \n",
       "4                   20.500000     296.0       59.2         3511.7   59.259598   \n",
       "...                       ...       ...        ...            ...         ...   \n",
       "1795012             60.000000     300.0       60.0        18000.0  134.164079   \n",
       "1795013             75.000000     300.0       75.0        22500.0  150.000000   \n",
       "1795014            100.000000     300.0      100.0        30000.0  173.205081   \n",
       "1795015            150.000000     300.0      150.0        45000.0  212.132034   \n",
       "1795016            300.000000     300.0      300.0        45000.0  212.132034   \n",
       "\n",
       "         range_5  max_payload  \n",
       "0          159.0         1460  \n",
       "1          149.0         1460  \n",
       "2           48.0         1460  \n",
       "3           48.0         1460  \n",
       "4          159.0         1460  \n",
       "...          ...          ...  \n",
       "1795012    300.0          844  \n",
       "1795013    300.0          844  \n",
       "1795014    300.0          844  \n",
       "1795015    300.0          844  \n",
       "1795016      0.0          844  \n",
       "\n",
       "[1795017 rows x 7 columns]"
      ]
     },
     "execution_count": 50,
     "metadata": {},
     "output_type": "execute_result"
    }
   ],
   "source": [
    "X_UNSW_1"
   ]
  },
  {
   "cell_type": "code",
   "execution_count": null,
   "metadata": {},
   "outputs": [
    {
     "data": {
      "text/plain": [
       "array([-0.08192188, -0.0444108 , -0.04437536, -0.19901667, -0.16614413,\n",
       "       -0.16258816, -0.33862645])"
      ]
     },
     "execution_count": 44,
     "metadata": {},
     "output_type": "execute_result"
    }
   ],
   "source": [
    "regression"
   ]
  },
  {
   "cell_type": "code",
   "execution_count": null,
   "metadata": {},
   "outputs": [],
   "source": [
    "df_UNSW_1_cut_2 = features_full(df_UNSW_1)\n",
    "X_UNSW_1_2, y_UNSW_1_2 = test_split(df_UNSW_1_cut_2)\n",
    "X_UNSW_1_2.drop(columns=['IAT_dt'], inplace=True)\n",
    "regression2 = r_regression(X_UNSW_1_2, y)"
   ]
  },
  {
   "cell_type": "code",
   "execution_count": null,
   "metadata": {},
   "outputs": [
    {
     "data": {
      "text/html": [
       "<div>\n",
       "<style scoped>\n",
       "    .dataframe tbody tr th:only-of-type {\n",
       "        vertical-align: middle;\n",
       "    }\n",
       "\n",
       "    .dataframe tbody tr th {\n",
       "        vertical-align: top;\n",
       "    }\n",
       "\n",
       "    .dataframe thead th {\n",
       "        text-align: right;\n",
       "    }\n",
       "</style>\n",
       "<table border=\"1\" class=\"dataframe\">\n",
       "  <thead>\n",
       "    <tr style=\"text-align: right;\">\n",
       "      <th></th>\n",
       "      <th>Unnamed: 0.1</th>\n",
       "      <th>Unnamed: 0</th>\n",
       "      <th>protocol</th>\n",
       "      <th>payload</th>\n",
       "      <th>IAT</th>\n",
       "      <th>src_port</th>\n",
       "      <th>dst_port</th>\n",
       "      <th>fma5_sum</th>\n",
       "      <th>fma5_mean</th>\n",
       "      <th>fma5_variance</th>\n",
       "      <th>...</th>\n",
       "      <th>mean_5</th>\n",
       "      <th>std_5</th>\n",
       "      <th>var_5</th>\n",
       "      <th>iat_sum_5</th>\n",
       "      <th>iat_mean_5</th>\n",
       "      <th>iat_std_5</th>\n",
       "      <th>iat_var_5</th>\n",
       "      <th>avg_payload_1_second</th>\n",
       "      <th>avg_payload_5_second</th>\n",
       "      <th>avg_payload_10_second</th>\n",
       "    </tr>\n",
       "  </thead>\n",
       "  <tbody>\n",
       "    <tr>\n",
       "      <th>0</th>\n",
       "      <td>0.0</td>\n",
       "      <td>0.0</td>\n",
       "      <td>17</td>\n",
       "      <td>159</td>\n",
       "      <td>0.000000</td>\n",
       "      <td>60958</td>\n",
       "      <td>49317</td>\n",
       "      <td>390.0</td>\n",
       "      <td>78.0</td>\n",
       "      <td>5106.0</td>\n",
       "      <td>...</td>\n",
       "      <td>78.0</td>\n",
       "      <td>63.91244</td>\n",
       "      <td>4084.8</td>\n",
       "      <td>14.438524</td>\n",
       "      <td>2.887705</td>\n",
       "      <td>4.775385</td>\n",
       "      <td>22.804301</td>\n",
       "      <td>159.000000</td>\n",
       "      <td>154.00</td>\n",
       "      <td>154.00</td>\n",
       "    </tr>\n",
       "    <tr>\n",
       "      <th>1</th>\n",
       "      <td>1.0</td>\n",
       "      <td>1.0</td>\n",
       "      <td>17</td>\n",
       "      <td>149</td>\n",
       "      <td>2.132840</td>\n",
       "      <td>37244</td>\n",
       "      <td>33434</td>\n",
       "      <td>231.0</td>\n",
       "      <td>46.2</td>\n",
       "      <td>3722.7</td>\n",
       "      <td>...</td>\n",
       "      <td>78.0</td>\n",
       "      <td>63.91244</td>\n",
       "      <td>4084.8</td>\n",
       "      <td>14.438524</td>\n",
       "      <td>2.887705</td>\n",
       "      <td>4.775385</td>\n",
       "      <td>22.804301</td>\n",
       "      <td>0.000000</td>\n",
       "      <td>149.00</td>\n",
       "      <td>149.00</td>\n",
       "    </tr>\n",
       "    <tr>\n",
       "      <th>2</th>\n",
       "      <td>2.0</td>\n",
       "      <td>2.0</td>\n",
       "      <td>6</td>\n",
       "      <td>41</td>\n",
       "      <td>12.294982</td>\n",
       "      <td>443</td>\n",
       "      <td>46369</td>\n",
       "      <td>130.0</td>\n",
       "      <td>26.0</td>\n",
       "      <td>571.5</td>\n",
       "      <td>...</td>\n",
       "      <td>78.0</td>\n",
       "      <td>63.91244</td>\n",
       "      <td>4084.8</td>\n",
       "      <td>14.438524</td>\n",
       "      <td>2.887705</td>\n",
       "      <td>4.775385</td>\n",
       "      <td>22.804301</td>\n",
       "      <td>0.000000</td>\n",
       "      <td>0.00</td>\n",
       "      <td>0.00</td>\n",
       "    </tr>\n",
       "    <tr>\n",
       "      <th>3</th>\n",
       "      <td>3.0</td>\n",
       "      <td>3.0</td>\n",
       "      <td>6</td>\n",
       "      <td>0</td>\n",
       "      <td>0.010589</td>\n",
       "      <td>46369</td>\n",
       "      <td>443</td>\n",
       "      <td>137.0</td>\n",
       "      <td>27.4</td>\n",
       "      <td>633.8</td>\n",
       "      <td>...</td>\n",
       "      <td>78.0</td>\n",
       "      <td>63.91244</td>\n",
       "      <td>4084.8</td>\n",
       "      <td>14.438524</td>\n",
       "      <td>2.887705</td>\n",
       "      <td>4.775385</td>\n",
       "      <td>22.804301</td>\n",
       "      <td>13.666667</td>\n",
       "      <td>27.40</td>\n",
       "      <td>27.40</td>\n",
       "    </tr>\n",
       "    <tr>\n",
       "      <th>4</th>\n",
       "      <td>4.0</td>\n",
       "      <td>4.0</td>\n",
       "      <td>6</td>\n",
       "      <td>41</td>\n",
       "      <td>0.000113</td>\n",
       "      <td>46369</td>\n",
       "      <td>443</td>\n",
       "      <td>296.0</td>\n",
       "      <td>59.2</td>\n",
       "      <td>3511.7</td>\n",
       "      <td>...</td>\n",
       "      <td>78.0</td>\n",
       "      <td>63.91244</td>\n",
       "      <td>4084.8</td>\n",
       "      <td>14.438524</td>\n",
       "      <td>2.887705</td>\n",
       "      <td>4.775385</td>\n",
       "      <td>22.804301</td>\n",
       "      <td>20.500000</td>\n",
       "      <td>34.25</td>\n",
       "      <td>34.25</td>\n",
       "    </tr>\n",
       "    <tr>\n",
       "      <th>...</th>\n",
       "      <td>...</td>\n",
       "      <td>...</td>\n",
       "      <td>...</td>\n",
       "      <td>...</td>\n",
       "      <td>...</td>\n",
       "      <td>...</td>\n",
       "      <td>...</td>\n",
       "      <td>...</td>\n",
       "      <td>...</td>\n",
       "      <td>...</td>\n",
       "      <td>...</td>\n",
       "      <td>...</td>\n",
       "      <td>...</td>\n",
       "      <td>...</td>\n",
       "      <td>...</td>\n",
       "      <td>...</td>\n",
       "      <td>...</td>\n",
       "      <td>...</td>\n",
       "      <td>...</td>\n",
       "      <td>...</td>\n",
       "      <td>...</td>\n",
       "    </tr>\n",
       "    <tr>\n",
       "      <th>1795012</th>\n",
       "      <td>37173.0</td>\n",
       "      <td>293.0</td>\n",
       "      <td>6</td>\n",
       "      <td>0</td>\n",
       "      <td>0.196696</td>\n",
       "      <td>49153</td>\n",
       "      <td>80</td>\n",
       "      <td>300.0</td>\n",
       "      <td>60.0</td>\n",
       "      <td>18000.0</td>\n",
       "      <td>...</td>\n",
       "      <td>300.0</td>\n",
       "      <td>0.00000</td>\n",
       "      <td>0.0</td>\n",
       "      <td>2.317430</td>\n",
       "      <td>0.463486</td>\n",
       "      <td>0.635028</td>\n",
       "      <td>0.403260</td>\n",
       "      <td>60.000000</td>\n",
       "      <td>60.00</td>\n",
       "      <td>60.00</td>\n",
       "    </tr>\n",
       "    <tr>\n",
       "      <th>1795013</th>\n",
       "      <td>37173.0</td>\n",
       "      <td>294.0</td>\n",
       "      <td>6</td>\n",
       "      <td>0</td>\n",
       "      <td>0.444770</td>\n",
       "      <td>49153</td>\n",
       "      <td>80</td>\n",
       "      <td>300.0</td>\n",
       "      <td>75.0</td>\n",
       "      <td>22500.0</td>\n",
       "      <td>...</td>\n",
       "      <td>300.0</td>\n",
       "      <td>0.00000</td>\n",
       "      <td>0.0</td>\n",
       "      <td>2.317430</td>\n",
       "      <td>0.463486</td>\n",
       "      <td>0.635028</td>\n",
       "      <td>0.403260</td>\n",
       "      <td>75.000000</td>\n",
       "      <td>75.00</td>\n",
       "      <td>75.00</td>\n",
       "    </tr>\n",
       "    <tr>\n",
       "      <th>1795014</th>\n",
       "      <td>37173.0</td>\n",
       "      <td>295.0</td>\n",
       "      <td>6</td>\n",
       "      <td>0</td>\n",
       "      <td>0.275119</td>\n",
       "      <td>80</td>\n",
       "      <td>49153</td>\n",
       "      <td>300.0</td>\n",
       "      <td>100.0</td>\n",
       "      <td>30000.0</td>\n",
       "      <td>...</td>\n",
       "      <td>300.0</td>\n",
       "      <td>0.00000</td>\n",
       "      <td>0.0</td>\n",
       "      <td>2.317430</td>\n",
       "      <td>0.463486</td>\n",
       "      <td>0.635028</td>\n",
       "      <td>0.403260</td>\n",
       "      <td>100.000000</td>\n",
       "      <td>100.00</td>\n",
       "      <td>100.00</td>\n",
       "    </tr>\n",
       "    <tr>\n",
       "      <th>1795015</th>\n",
       "      <td>37173.0</td>\n",
       "      <td>296.0</td>\n",
       "      <td>6</td>\n",
       "      <td>0</td>\n",
       "      <td>0.016896</td>\n",
       "      <td>49153</td>\n",
       "      <td>80</td>\n",
       "      <td>300.0</td>\n",
       "      <td>150.0</td>\n",
       "      <td>45000.0</td>\n",
       "      <td>...</td>\n",
       "      <td>300.0</td>\n",
       "      <td>0.00000</td>\n",
       "      <td>0.0</td>\n",
       "      <td>2.317430</td>\n",
       "      <td>0.463486</td>\n",
       "      <td>0.635028</td>\n",
       "      <td>0.403260</td>\n",
       "      <td>150.000000</td>\n",
       "      <td>150.00</td>\n",
       "      <td>150.00</td>\n",
       "    </tr>\n",
       "    <tr>\n",
       "      <th>1795016</th>\n",
       "      <td>37173.0</td>\n",
       "      <td>297.0</td>\n",
       "      <td>17</td>\n",
       "      <td>300</td>\n",
       "      <td>0.000159</td>\n",
       "      <td>68</td>\n",
       "      <td>67</td>\n",
       "      <td>300.0</td>\n",
       "      <td>300.0</td>\n",
       "      <td>45000.0</td>\n",
       "      <td>...</td>\n",
       "      <td>300.0</td>\n",
       "      <td>0.00000</td>\n",
       "      <td>0.0</td>\n",
       "      <td>2.317430</td>\n",
       "      <td>0.463486</td>\n",
       "      <td>0.635028</td>\n",
       "      <td>0.403260</td>\n",
       "      <td>300.000000</td>\n",
       "      <td>300.00</td>\n",
       "      <td>300.00</td>\n",
       "    </tr>\n",
       "  </tbody>\n",
       "</table>\n",
       "<p>1795017 rows × 29 columns</p>\n",
       "</div>"
      ],
      "text/plain": [
       "         Unnamed: 0.1  Unnamed: 0  protocol  payload        IAT  src_port  \\\n",
       "0                 0.0         0.0        17      159   0.000000     60958   \n",
       "1                 1.0         1.0        17      149   2.132840     37244   \n",
       "2                 2.0         2.0         6       41  12.294982       443   \n",
       "3                 3.0         3.0         6        0   0.010589     46369   \n",
       "4                 4.0         4.0         6       41   0.000113     46369   \n",
       "...               ...         ...       ...      ...        ...       ...   \n",
       "1795012       37173.0       293.0         6        0   0.196696     49153   \n",
       "1795013       37173.0       294.0         6        0   0.444770     49153   \n",
       "1795014       37173.0       295.0         6        0   0.275119        80   \n",
       "1795015       37173.0       296.0         6        0   0.016896     49153   \n",
       "1795016       37173.0       297.0        17      300   0.000159        68   \n",
       "\n",
       "         dst_port  fma5_sum  fma5_mean  fma5_variance  ...  mean_5     std_5  \\\n",
       "0           49317     390.0       78.0         5106.0  ...    78.0  63.91244   \n",
       "1           33434     231.0       46.2         3722.7  ...    78.0  63.91244   \n",
       "2           46369     130.0       26.0          571.5  ...    78.0  63.91244   \n",
       "3             443     137.0       27.4          633.8  ...    78.0  63.91244   \n",
       "4             443     296.0       59.2         3511.7  ...    78.0  63.91244   \n",
       "...           ...       ...        ...            ...  ...     ...       ...   \n",
       "1795012        80     300.0       60.0        18000.0  ...   300.0   0.00000   \n",
       "1795013        80     300.0       75.0        22500.0  ...   300.0   0.00000   \n",
       "1795014     49153     300.0      100.0        30000.0  ...   300.0   0.00000   \n",
       "1795015        80     300.0      150.0        45000.0  ...   300.0   0.00000   \n",
       "1795016        67     300.0      300.0        45000.0  ...   300.0   0.00000   \n",
       "\n",
       "          var_5  iat_sum_5  iat_mean_5  iat_std_5  iat_var_5  \\\n",
       "0        4084.8  14.438524    2.887705   4.775385  22.804301   \n",
       "1        4084.8  14.438524    2.887705   4.775385  22.804301   \n",
       "2        4084.8  14.438524    2.887705   4.775385  22.804301   \n",
       "3        4084.8  14.438524    2.887705   4.775385  22.804301   \n",
       "4        4084.8  14.438524    2.887705   4.775385  22.804301   \n",
       "...         ...        ...         ...        ...        ...   \n",
       "1795012     0.0   2.317430    0.463486   0.635028   0.403260   \n",
       "1795013     0.0   2.317430    0.463486   0.635028   0.403260   \n",
       "1795014     0.0   2.317430    0.463486   0.635028   0.403260   \n",
       "1795015     0.0   2.317430    0.463486   0.635028   0.403260   \n",
       "1795016     0.0   2.317430    0.463486   0.635028   0.403260   \n",
       "\n",
       "         avg_payload_1_second  avg_payload_5_second  avg_payload_10_second  \n",
       "0                  159.000000                154.00                 154.00  \n",
       "1                    0.000000                149.00                 149.00  \n",
       "2                    0.000000                  0.00                   0.00  \n",
       "3                   13.666667                 27.40                  27.40  \n",
       "4                   20.500000                 34.25                  34.25  \n",
       "...                       ...                   ...                    ...  \n",
       "1795012             60.000000                 60.00                  60.00  \n",
       "1795013             75.000000                 75.00                  75.00  \n",
       "1795014            100.000000                100.00                 100.00  \n",
       "1795015            150.000000                150.00                 150.00  \n",
       "1795016            300.000000                300.00                 300.00  \n",
       "\n",
       "[1795017 rows x 29 columns]"
      ]
     },
     "execution_count": 49,
     "metadata": {},
     "output_type": "execute_result"
    }
   ],
   "source": [
    "X_UNSW_1_2"
   ]
  },
  {
   "cell_type": "code",
   "execution_count": null,
   "metadata": {},
   "outputs": [
    {
     "data": {
      "text/plain": [
       "array([ 0.1527136 , -0.09989911,  0.154316  , -0.03028508,  0.12946485,\n",
       "       -0.02085042, -0.23053817, -0.0444108 , -0.04437536, -0.19901667,\n",
       "       -0.16614413,  0.24249149,  0.24247479,  0.14336797,  0.25848325,\n",
       "       -0.33862645,  0.        , -0.16258816,  0.28824397,  0.28824397,\n",
       "       -0.14041706,  0.08413867, -0.19598644, -0.19598644, -0.20573014,\n",
       "       -0.06092093, -0.08192188, -0.05974673, -0.06065651])"
      ]
     },
     "execution_count": 47,
     "metadata": {},
     "output_type": "execute_result"
    }
   ],
   "source": [
    "regression2"
   ]
  },
  {
   "cell_type": "code",
   "execution_count": 12,
   "metadata": {},
   "outputs": [
    {
     "name": "stdout",
     "output_type": "stream",
     "text": [
      "training....start time:  1672047339.3758469\n",
      "time taken:  418.19317507743835\n"
     ]
    }
   ],
   "source": [
    "rf_model = get_model()\n",
    "start = time.time()\n",
    "print('training....start time: ', start)\n",
    "clf_UNSW_1 = OneVsRestClassifier(rf_model, n_jobs=-1).fit(X_UNSW_1, y_UNSW_1)\n",
    "stop = time.time() \n",
    "print('time taken: ', stop-start)\n",
    "\n",
    "# pickle_file = r'D:\\Master\\model\\main-2\\UNSW_1_time.sav'\n",
    "# pickle.dump(clf_UNSW_1, open(pickle_file, 'wb'))"
   ]
  },
  {
   "cell_type": "code",
   "execution_count": 10,
   "metadata": {},
   "outputs": [],
   "source": [
    "pickle_file = r'D:\\Master\\model\\main-2\\UNSW_1_time.sav'\n",
    "clf_UNSW_1 = pickle.load(open(pickle_file, 'rb'))"
   ]
  },
  {
   "cell_type": "code",
   "execution_count": 11,
   "metadata": {},
   "outputs": [],
   "source": [
    "y_pred_UNSW_1 = clf_UNSW_1.predict(X_UNSW_1)"
   ]
  },
  {
   "cell_type": "code",
   "execution_count": 12,
   "metadata": {},
   "outputs": [
    {
     "name": "stdout",
     "output_type": "stream",
     "text": [
      "accuracy:  0.8912957370320169\n",
      "f1:  0.8890137135795608\n",
      "precision:  0.9045627458174119\n",
      "recall:  0.8912957370320169\n"
     ]
    }
   ],
   "source": [
    "print('accuracy: ', accuracy_score(y_UNSW_1, y_pred_UNSW_1))\n",
    "print('f1: ', f1_score(y_UNSW_1, y_pred_UNSW_1, average='weighted'))\n",
    "print('precision: ', precision_score(y_UNSW_1, y_pred_UNSW_1, average='weighted'))\n",
    "print('recall: ', recall_score(y_UNSW_1, y_pred_UNSW_1, average='weighted'))"
   ]
  },
  {
   "cell_type": "code",
   "execution_count": 13,
   "metadata": {},
   "outputs": [
    {
     "name": "stdout",
     "output_type": "stream",
     "text": [
      "['Amazon Echo', 'Belkin Wemo switch', 'Belkin wemo motion sensor', 'HP Printer', 'Insteon Camera', 'Light Bulbs LiFX Smart Bulb', 'NEST Protect smoke alarm', 'Netatmo weather station', 'Samsung SmartCam', 'Smart Things', 'Triby Speaker', 'Withings Smart scale']\n",
      "[[239947     83    271    135      0      0      0      0      1      0\n",
      "       0      0]\n",
      " [  1349 241458  25413      9     24      0      0      0      2      0\n",
      "    5222      0]\n",
      " [  1850 127679 250992     57     72      0      0      0  18592      0\n",
      "    8928      0]\n",
      " [   147     24     24  19599      0      0      0      0      1      0\n",
      "       4      0]\n",
      " [     0     63    326      1 214510      0      0      0     12      0\n",
      "      12      0]\n",
      " [     0      0      0      0      0  15491      0      0      0      0\n",
      "       0      0]\n",
      " [     0      0      0      0      0      0   1386      0      0      0\n",
      "       0      0]\n",
      " [     0      0      0      0      0      0      0  49656      0      0\n",
      "       0      0]\n",
      " [     0     34   4077      2     55      0      0      0 375220      0\n",
      "     529      0]\n",
      " [     0      0      0      0      0      0      0      0      0 143992\n",
      "       0      0]\n",
      " [     0     12     56      0     31      0      0      0     29      0\n",
      "   45695      0]\n",
      " [     0      0      0      0      0      0      0      0      0      0\n",
      "       0   1945]]\n"
     ]
    }
   ],
   "source": [
    "print(sorted(y_UNSW_1.unique()))\n",
    "cm = confusion_matrix(y_UNSW_1, y_pred_UNSW_1, labels=sorted(y_UNSW_1.unique()))\n",
    "print(cm)"
   ]
  },
  {
   "cell_type": "code",
   "execution_count": 14,
   "metadata": {},
   "outputs": [
    {
     "name": "stdout",
     "output_type": "stream",
     "text": [
      "row_0\n",
      "Amazon Echo                    0.986247\n",
      "Belkin Wemo switch             0.653732\n",
      "Belkin wemo motion sensor      0.892705\n",
      "HP Printer                     0.989699\n",
      "Insteon Camera                 0.999152\n",
      "Light Bulbs LiFX Smart Bulb    1.000000\n",
      "NEST Protect smoke alarm       1.000000\n",
      "Netatmo weather station        1.000000\n",
      "Samsung SmartCam               0.952681\n",
      "Smart Things                   1.000000\n",
      "Triby Speaker                  0.756665\n",
      "Withings Smart scale           1.000000\n",
      "dtype: float64\n"
     ]
    }
   ],
   "source": [
    "def classwise_accuracy():\n",
    "   a = pd.crosstab(y_pred_UNSW_1,y_UNSW_1)\n",
    "   print(a.max(axis=1)/a.sum(axis=1))\n",
    "classwise_accuracy()"
   ]
  },
  {
   "attachments": {},
   "cell_type": "markdown",
   "metadata": {},
   "source": [
    "##### Week 2"
   ]
  },
  {
   "cell_type": "code",
   "execution_count": 15,
   "metadata": {},
   "outputs": [],
   "source": [
    "df_UNSW_2 = pd.read_csv(r'D:\\Master\\datasets\\main-exp-2\\combined\\UNSW\\week_2.csv')\n",
    "df_UNSW_2 = filter_label(df_UNSW_2, 1)\n",
    "df_UNSW_2_cut = features_selection(df_UNSW_2)\n",
    "X_UNSW_2, y_UNSW_2 = test_split(df_UNSW_2_cut)"
   ]
  },
  {
   "cell_type": "code",
   "execution_count": 16,
   "metadata": {},
   "outputs": [],
   "source": [
    "y_pred_UNSW_2 = clf_UNSW_1.predict(X_UNSW_2)"
   ]
  },
  {
   "cell_type": "code",
   "execution_count": null,
   "metadata": {},
   "outputs": [
    {
     "name": "stdout",
     "output_type": "stream",
     "text": [
      "accuracy:  0.8462149267183948\n",
      "f1:  0.8384675577101052\n",
      "precision:  0.8582497639709055\n",
      "recall:  0.8462149267183948\n"
     ]
    }
   ],
   "source": [
    "print('accuracy: ', accuracy_score(y_UNSW_2, y_pred_UNSW_2))\n",
    "print('f1: ', f1_score(y_UNSW_2, y_pred_UNSW_2, average='weighted'))\n",
    "print('precision: ', precision_score(y_UNSW_2, y_pred_UNSW_2, average='weighted'))\n",
    "print('recall: ', recall_score(y_UNSW_2, y_pred_UNSW_2, average='weighted'))"
   ]
  },
  {
   "cell_type": "code",
   "execution_count": null,
   "metadata": {},
   "outputs": [
    {
     "name": "stdout",
     "output_type": "stream",
     "text": [
      "12 ['Amazon Echo' 'Belkin wemo motion sensor' 'Belkin Wemo switch'\n",
      " 'HP Printer' 'Insteon Camera' 'Light Bulbs LiFX Smart Bulb'\n",
      " 'NEST Protect smoke alarm' 'Netatmo weather station' 'Samsung SmartCam'\n",
      " 'Smart Things' 'Triby Speaker' 'Withings Smart scale'] set()\n",
      "[[261446    240    618   2170      0      0      0      0      9      0\n",
      "       0      0]\n",
      " [  1591 284629  45017    103    592      0      0      0    142      0\n",
      "    7721      0]\n",
      " [  3023 164717 276152    142    419      0      0      0   7524      0\n",
      "   11515      0]\n",
      " [     0      1     14  15422  51348      0      0      0      8      0\n",
      "      28      0]\n",
      " [     0   1196   8067     75 274755      0      0      0   1282      0\n",
      "     449      0]\n",
      " [     0      0      0      4      6  64085      0      0      0      0\n",
      "       0      0]\n",
      " [     0      0      0      0      0      1   1563      0      0      0\n",
      "       0      0]\n",
      " [     0      0      0      0      0      0      0  49767      0      0\n",
      "       0      0]\n",
      " [     0     64   3164      3    135      0      0      0 382484      0\n",
      "     800      0]\n",
      " [     0      0      0      0      0      0      0      0      0  70949\n",
      "       0      0]\n",
      " [     0     76    617     15    278      0      0      0    769      0\n",
      "   44455      0]\n",
      " [     0      0      0      0      0      0      0      0      0      0\n",
      "       0   1790]]\n"
     ]
    }
   ],
   "source": [
    "print(len(y_UNSW_2.unique()), y_UNSW_2.unique(), set(clf_UNSW_1.classes_).symmetric_difference(set(y_UNSW_2.unique())))\n",
    "cm = confusion_matrix(y_UNSW_2, y_pred_UNSW_2)\n",
    "print(cm)"
   ]
  },
  {
   "attachments": {},
   "cell_type": "markdown",
   "metadata": {},
   "source": [
    "##### Week 3"
   ]
  },
  {
   "cell_type": "code",
   "execution_count": null,
   "metadata": {},
   "outputs": [],
   "source": [
    "df_UNSW_3 = pd.read_csv(r'D:\\Master\\datasets\\main-exp-2\\combined\\UNSW\\week_3.csv')\n",
    "df_UNSW_3 = filter_label(df_UNSW_3, 1)\n",
    "df_UNSW_3_cut = features_selection(df_UNSW_3)\n",
    "X_UNSW_3, y_UNSW_3 = test_split(df_UNSW_3_cut)"
   ]
  },
  {
   "cell_type": "code",
   "execution_count": null,
   "metadata": {},
   "outputs": [
    {
     "name": "stdout",
     "output_type": "stream",
     "text": [
      "accuracy:  0.8668887479015894\n",
      "f1:  0.864110653427212\n",
      "precision:  0.8824212008777016\n",
      "recall:  0.8668887479015894\n"
     ]
    }
   ],
   "source": [
    "y_pred_UNSW_3 = clf_UNSW_1.predict(X_UNSW_3)\n",
    "\n",
    "print('accuracy: ', accuracy_score(y_UNSW_3, y_pred_UNSW_3))\n",
    "print('f1: ', f1_score(y_UNSW_3, y_pred_UNSW_3, average='weighted'))\n",
    "print('precision: ', precision_score(y_UNSW_3, y_pred_UNSW_3, average='weighted'))\n",
    "print('recall: ', recall_score(y_UNSW_3, y_pred_UNSW_3, average='weighted'))"
   ]
  },
  {
   "cell_type": "code",
   "execution_count": null,
   "metadata": {},
   "outputs": [
    {
     "name": "stdout",
     "output_type": "stream",
     "text": [
      "12 ['Amazon Echo' 'Belkin wemo motion sensor' 'Belkin Wemo switch'\n",
      " 'HP Printer' 'Insteon Camera' 'Light Bulbs LiFX Smart Bulb'\n",
      " 'NEST Protect smoke alarm' 'Netatmo weather station' 'Samsung SmartCam'\n",
      " 'Smart Things' 'Triby Speaker' 'Withings Smart scale'] set()\n",
      "[[233661    252    530    113      0      0      0      0      5      0\n",
      "       0      0]\n",
      " [  5908 252761  35400    471    100      0      0      0     48      0\n",
      "    4012      0]\n",
      " [ 11929 155539 251323   1188    788      0      0      0   2036      0\n",
      "    4142      0]\n",
      " [     0      2     10   6981  15378      0      0      0      4      0\n",
      "       7      0]\n",
      " [     0    437   2970     20 250834      0      0      0    551      0\n",
      "     238      0]\n",
      " [     0      0      0      3      3  59234      0      0      0      0\n",
      "       0      0]\n",
      " [     0      0      0      0      0      0    986      0      0      0\n",
      "       0      0]\n",
      " [     0      0      0      0      0      0      0  40909      0      0\n",
      "       0   7117]\n",
      " [     0      0      0      0      0      0      0      0 354485      0\n",
      "       0      0]\n",
      " [     0      0      0      0      0      0      0      0      0 160928\n",
      "       0      0]\n",
      " [     0    173    610      1     69   3122      0      0    482      0\n",
      "   38257      0]\n",
      " [     0      0      0      0      0      0      0      0      0      0\n",
      "       0   1592]]\n"
     ]
    }
   ],
   "source": [
    "print(len(y_UNSW_3.unique()), y_UNSW_3.unique(), set(clf_UNSW_1.classes_).symmetric_difference(set(y_UNSW_3.unique())))\n",
    "y_UNSW_3.unique()\n",
    "cm = confusion_matrix(y_UNSW_3, y_pred_UNSW_3)\n",
    "print(cm)"
   ]
  },
  {
   "attachments": {},
   "cell_type": "markdown",
   "metadata": {},
   "source": [
    "##### Week 4"
   ]
  },
  {
   "cell_type": "code",
   "execution_count": null,
   "metadata": {},
   "outputs": [],
   "source": [
    "df_UNSW_4 = pd.read_csv(r'D:\\Master\\datasets\\main-exp-2\\combined\\UNSW\\week_4.csv')\n",
    "df_UNSW_4 = filter_label(df_UNSW_4, 1)\n",
    "df_UNSW_4_cut = features_selection(df_UNSW_4)\n",
    "X_UNSW_4, y_UNSW_4 = test_split(df_UNSW_4_cut)"
   ]
  },
  {
   "cell_type": "code",
   "execution_count": null,
   "metadata": {},
   "outputs": [
    {
     "name": "stdout",
     "output_type": "stream",
     "text": [
      "accuracy:  0.8333375005519348\n",
      "f1:  0.8272908525129302\n",
      "precision:  0.8532758983667956\n",
      "recall:  0.8333375005519348\n"
     ]
    }
   ],
   "source": [
    "y_pred_UNSW_4 = clf_UNSW_1.predict(X_UNSW_4)\n",
    "\n",
    "print('accuracy: ', accuracy_score(y_UNSW_4, y_pred_UNSW_4))\n",
    "print('f1: ', f1_score(y_UNSW_4, y_pred_UNSW_4, average='weighted'))\n",
    "print('precision: ', precision_score(y_UNSW_4, y_pred_UNSW_4, average='weighted'))\n",
    "print('recall: ', recall_score(y_UNSW_4, y_pred_UNSW_4, average='weighted'))"
   ]
  },
  {
   "cell_type": "code",
   "execution_count": null,
   "metadata": {},
   "outputs": [
    {
     "name": "stdout",
     "output_type": "stream",
     "text": [
      "12 ['Amazon Echo' 'Belkin wemo motion sensor' 'Belkin Wemo switch'\n",
      " 'HP Printer' 'Insteon Camera' 'Light Bulbs LiFX Smart Bulb'\n",
      " 'NEST Protect smoke alarm' 'Netatmo weather station' 'Samsung SmartCam'\n",
      " 'Smart Things' 'Triby Speaker' 'Withings Smart scale'] set()\n",
      "[[251196    178   1448   1455      0      0      0      0      8      0\n",
      "       0      0]\n",
      " [  5876 259210  37006    126    109      0      0      0    110      0\n",
      "    5784      0]\n",
      " [ 11581 173515 287794   1167   7714      0      0      0   4233      0\n",
      "    6180      0]\n",
      " [     0      6     61  11740  38664      0      0      0     12      0\n",
      "      70      0]\n",
      " [     0   1140   5588     42 252628      0      0      0   2476      0\n",
      "     342      0]\n",
      " [     0      0      0      4      4  63222      0      0      0      0\n",
      "       0      0]\n",
      " [     0      0      0      0      0      2   1793      0      0      0\n",
      "       0      0]\n",
      " [     0      0      0      0      2      0      0   3697      0      0\n",
      "       0   2229]\n",
      " [     0      0      0      2      2      0      0      0 300512      0\n",
      "       0      0]\n",
      " [     0      0      0      0      0      0      0      0      0  96847\n",
      "       0      0]\n",
      " [     0     24     24      1     48      0      0      0    237      0\n",
      "   36038   5814]\n",
      " [     0      0      0      0      0      0      0      0      0      0\n",
      "       0   1790]]\n"
     ]
    }
   ],
   "source": [
    "print(len(y_UNSW_4.unique()), y_UNSW_4.unique(), set(clf_UNSW_1.classes_).symmetric_difference(set(y_UNSW_4.unique())))\n",
    "cm = confusion_matrix(y_UNSW_4, y_pred_UNSW_4)\n",
    "print(cm)"
   ]
  },
  {
   "attachments": {},
   "cell_type": "markdown",
   "metadata": {},
   "source": [
    "##### Week 5"
   ]
  },
  {
   "cell_type": "code",
   "execution_count": null,
   "metadata": {},
   "outputs": [],
   "source": [
    "df_UNSW_5 = pd.read_csv(r'D:\\Master\\datasets\\main-exp-2\\combined\\UNSW\\week_5.csv')\n",
    "df_UNSW_5 = filter_label(df_UNSW_5, 1)\n",
    "df_UNSW_5_cut = features_selection(df_UNSW_5)\n",
    "X_UNSW_5, y_UNSW_5 = test_split(df_UNSW_5_cut)"
   ]
  },
  {
   "cell_type": "code",
   "execution_count": null,
   "metadata": {},
   "outputs": [
    {
     "name": "stdout",
     "output_type": "stream",
     "text": [
      "accuracy:  0.8470883037286802\n",
      "f1:  0.859091416941374\n",
      "precision:  0.8954672366983653\n",
      "recall:  0.8470883037286802\n"
     ]
    }
   ],
   "source": [
    "y_pred_UNSW_5 = clf_UNSW_1.predict(X_UNSW_5)\n",
    "\n",
    "print('accuracy: ', accuracy_score(y_UNSW_5, y_pred_UNSW_5))\n",
    "print('f1: ', f1_score(y_UNSW_5, y_pred_UNSW_5, average='weighted'))\n",
    "print('precision: ', precision_score(y_UNSW_5, y_pred_UNSW_5, average='weighted'))\n",
    "print('recall: ', recall_score(y_UNSW_5, y_pred_UNSW_5, average='weighted'))"
   ]
  },
  {
   "cell_type": "code",
   "execution_count": null,
   "metadata": {},
   "outputs": [
    {
     "name": "stdout",
     "output_type": "stream",
     "text": [
      "12 ['Amazon Echo' 'Belkin wemo motion sensor' 'Belkin Wemo switch'\n",
      " 'HP Printer' 'Insteon Camera' 'Light Bulbs LiFX Smart Bulb'\n",
      " 'NEST Protect smoke alarm' 'Netatmo weather station' 'Samsung SmartCam'\n",
      " 'Smart Things' 'Triby Speaker' 'Withings Smart scale'] set()\n",
      "[[261325    150   1732    907      0      0      0      0      4      0\n",
      "       0      0]\n",
      " [   655 114926  17485     32    247      0      0      0   1276      0\n",
      "    3177      0]\n",
      " [  1326  73556 124159    183   4512      0      0      0   2717      0\n",
      "    4049      0]\n",
      " [     0     11     73  11924   6265      0      0      0     20      0\n",
      "      65      0]\n",
      " [     0   2011   7764    110 254012      0      0      0    519      0\n",
      "     490      0]\n",
      " [     0      0      0      1      2  41379      0      0      0      0\n",
      "       0      0]\n",
      " [     0      0      0      0      0      0   1281      0      0      0\n",
      "       0      0]\n",
      " [     0      0      0      0      0      0      0  17880      1      0\n",
      "       0   2861]\n",
      " [     0    119    192     27    327      0      0  65295 188140      0\n",
      "     153      0]\n",
      " [     0      0      0      0      0      0      0      0      0  77768\n",
      "       0      0]\n",
      " [     0     11     53     15    600      0      0      0      2      0\n",
      "    7858      0]\n",
      " [     0      0      0      0      0      0      0      0      0      0\n",
      "       0   1725]]\n"
     ]
    }
   ],
   "source": [
    "print(len(y_UNSW_5.unique()), y_UNSW_5.unique(), set(clf_UNSW_1.classes_).symmetric_difference(set(y_UNSW_5.unique())))\n",
    "cm = confusion_matrix(y_UNSW_5, y_pred_UNSW_5)\n",
    "print(cm)"
   ]
  },
  {
   "cell_type": "code",
   "execution_count": null,
   "metadata": {},
   "outputs": [
    {
     "name": "stdout",
     "output_type": "stream",
     "text": [
      "['Amazon Echo' 'Belkin Wemo switch' 'Belkin wemo motion sensor'\n",
      " 'HP Printer' 'Insteon Camera' 'Light Bulbs LiFX Smart Bulb'\n",
      " 'NEST Protect smoke alarm' 'Netatmo weather station' 'Samsung SmartCam'\n",
      " 'Smart Things' 'Triby Speaker' 'Withings Smart scale']\n",
      "12\n"
     ]
    }
   ],
   "source": [
    "print(np.unique(y_pred_UNSW_5))\n",
    "print(len(np.unique(y_pred_UNSW_5)))\n",
    "\n",
    "labels_15=['Amazon Echo','Belkin Wemo switch','Belkin wemo motion sensor','Dropcam','HP Printer',\n",
    "'Insteon Camera','Light Bulbs LiFX Smart Bulb','NEST Protect smoke alarm','Netatmo weather station','PIX-STAR Photo-frame','Samsung SmartCam','Smart Things','Triby Speaker','iHome Power Plug', 'Withings Smart scale']"
   ]
  },
  {
   "cell_type": "code",
   "execution_count": null,
   "metadata": {},
   "outputs": [
    {
     "name": "stderr",
     "output_type": "stream",
     "text": [
      "c:\\Users\\Shogun-Sama\\codes-and-scripts\\lib\\site-packages\\sklearn\\metrics\\_classification.py:1327: UndefinedMetricWarning: Precision and F-score are ill-defined and being set to 0.0 in labels with no predicted samples. Use `zero_division` parameter to control this behavior.\n",
      "  _warn_prf(average, modifier, msg_start, len(result))\n",
      "c:\\Users\\Shogun-Sama\\codes-and-scripts\\lib\\site-packages\\sklearn\\metrics\\_classification.py:1327: UndefinedMetricWarning: Recall and F-score are ill-defined and being set to 0.0 in labels with no true samples. Use `zero_division` parameter to control this behavior.\n",
      "  _warn_prf(average, modifier, msg_start, len(result))\n",
      "c:\\Users\\Shogun-Sama\\codes-and-scripts\\lib\\site-packages\\sklearn\\metrics\\_classification.py:1327: UndefinedMetricWarning: Precision and F-score are ill-defined and being set to 0.0 in labels with no predicted samples. Use `zero_division` parameter to control this behavior.\n",
      "  _warn_prf(average, modifier, msg_start, len(result))\n",
      "c:\\Users\\Shogun-Sama\\codes-and-scripts\\lib\\site-packages\\sklearn\\metrics\\_classification.py:1327: UndefinedMetricWarning: Recall and F-score are ill-defined and being set to 0.0 in labels with no true samples. Use `zero_division` parameter to control this behavior.\n",
      "  _warn_prf(average, modifier, msg_start, len(result))\n"
     ]
    },
    {
     "name": "stdout",
     "output_type": "stream",
     "text": [
      "                             precision    recall  f1-score   support\n",
      "\n",
      "                Amazon Echo       0.99      0.99      0.99    264118\n",
      "         Belkin Wemo switch       0.60      0.83      0.70    137798\n",
      "  Belkin wemo motion sensor       0.82      0.59      0.69    210502\n",
      "                    Dropcam       0.00      0.00      0.00         0\n",
      "                 HP Printer       0.90      0.65      0.76     18358\n",
      "             Insteon Camera       0.96      0.96      0.96    264906\n",
      "Light Bulbs LiFX Smart Bulb       1.00      1.00      1.00     41382\n",
      "   NEST Protect smoke alarm       1.00      1.00      1.00      1281\n",
      "    Netatmo weather station       0.21      0.86      0.34     20742\n",
      "       PIX-STAR Photo-frame       0.00      0.00      0.00         0\n",
      "           Samsung SmartCam       0.98      0.74      0.84    254253\n",
      "               Smart Things       1.00      1.00      1.00     77768\n",
      "              Triby Speaker       0.50      0.92      0.65      8539\n",
      "           iHome Power Plug       0.00      0.00      0.00         0\n",
      "       Withings Smart scale       0.38      1.00      0.55      1725\n",
      "\n",
      "                  micro avg       0.85      0.85      0.85   1301372\n",
      "                  macro avg       0.62      0.70      0.63   1301372\n",
      "               weighted avg       0.90      0.85      0.86   1301372\n",
      "\n"
     ]
    },
    {
     "name": "stderr",
     "output_type": "stream",
     "text": [
      "c:\\Users\\Shogun-Sama\\codes-and-scripts\\lib\\site-packages\\sklearn\\metrics\\_classification.py:1327: UndefinedMetricWarning: Precision and F-score are ill-defined and being set to 0.0 in labels with no predicted samples. Use `zero_division` parameter to control this behavior.\n",
      "  _warn_prf(average, modifier, msg_start, len(result))\n",
      "c:\\Users\\Shogun-Sama\\codes-and-scripts\\lib\\site-packages\\sklearn\\metrics\\_classification.py:1327: UndefinedMetricWarning: Recall and F-score are ill-defined and being set to 0.0 in labels with no true samples. Use `zero_division` parameter to control this behavior.\n",
      "  _warn_prf(average, modifier, msg_start, len(result))\n"
     ]
    }
   ],
   "source": [
    "from sklearn.metrics import multilabel_confusion_matrix\n",
    "from sklearn.metrics import classification_report\n",
    "labels_16= ['Amazon Echo','Belkin wemo motion sensor','Belkin Wemo switch','Dropcam','HP Printer','iHome Power Plug','Insteon Camera','Light Bulbs LiFX Smart Bulb','NEST Protect smoke alarm','Netatmo weather station','Netatmo Welcome','PIX-STAR Photo-frame','Samsung SmartCam','Smart Things','Triby Speaker','Withings Smart scale']\n",
    "# multilabel_confusion_matrix(y_UNSW_5, y_pred_UNSW_5,labels=labels_15)\n",
    "print(classification_report(y_UNSW_5, y_pred_UNSW_5,labels=labels_15))"
   ]
  },
  {
   "cell_type": "code",
   "execution_count": null,
   "metadata": {},
   "outputs": [
    {
     "data": {
      "text/plain": [
       "array([[261325,    150,   1732,      0,    907,      0,      0,      0,\n",
       "             0,      0,      4,      0,      0,      0,      0],\n",
       "       [   655, 114926,  17485,      0,     32,    247,      0,      0,\n",
       "             0,      0,   1276,      0,   3177,      0,      0],\n",
       "       [  1326,  73556, 124159,      0,    183,   4512,      0,      0,\n",
       "             0,      0,   2717,      0,   4049,      0,      0],\n",
       "       [     0,      0,      0,      0,      0,      0,      0,      0,\n",
       "             0,      0,      0,      0,      0,      0,      0],\n",
       "       [     0,     11,     73,      0,  11924,   6265,      0,      0,\n",
       "             0,      0,     20,      0,     65,      0,      0],\n",
       "       [     0,   2011,   7764,      0,    110, 254012,      0,      0,\n",
       "             0,      0,    519,      0,    490,      0,      0],\n",
       "       [     0,      0,      0,      0,      1,      2,  41379,      0,\n",
       "             0,      0,      0,      0,      0,      0,      0],\n",
       "       [     0,      0,      0,      0,      0,      0,      0,   1281,\n",
       "             0,      0,      0,      0,      0,      0,      0],\n",
       "       [     0,      0,      0,      0,      0,      0,      0,      0,\n",
       "         17880,      0,      1,      0,      0,      0,   2861],\n",
       "       [     0,      0,      0,      0,      0,      0,      0,      0,\n",
       "             0,      0,      0,      0,      0,      0,      0],\n",
       "       [     0,    119,    192,      0,     27,    327,      0,      0,\n",
       "         65295,      0, 188140,      0,    153,      0,      0],\n",
       "       [     0,      0,      0,      0,      0,      0,      0,      0,\n",
       "             0,      0,      0,  77768,      0,      0,      0],\n",
       "       [     0,     11,     53,      0,     15,    600,      0,      0,\n",
       "             0,      0,      2,      0,   7858,      0,      0],\n",
       "       [     0,      0,      0,      0,      0,      0,      0,      0,\n",
       "             0,      0,      0,      0,      0,      0,      0],\n",
       "       [     0,      0,      0,      0,      0,      0,      0,      0,\n",
       "             0,      0,      0,      0,      0,      0,   1725]],\n",
       "      dtype=int64)"
      ]
     },
     "execution_count": 31,
     "metadata": {},
     "output_type": "execute_result"
    }
   ],
   "source": [
    "confusion_matrix(y_UNSW_5, y_pred_UNSW_5,labels=labels_15)"
   ]
  },
  {
   "attachments": {},
   "cell_type": "markdown",
   "metadata": {},
   "source": [
    "##### Week 6"
   ]
  },
  {
   "cell_type": "code",
   "execution_count": null,
   "metadata": {},
   "outputs": [],
   "source": [
    "df_UNSW_6 = pd.read_csv(r'D:\\Master\\datasets\\main-exp-2\\combined\\UNSW\\week_6.csv')\n",
    "df_UNSW_6 = filter_label(df_UNSW_6, 1)\n",
    "df_UNSW_6_cut = features_selection(df_UNSW_6)\n",
    "X_UNSW_6, y_UNSW_6 = test_split(df_UNSW_6_cut)"
   ]
  },
  {
   "cell_type": "code",
   "execution_count": null,
   "metadata": {},
   "outputs": [
    {
     "name": "stdout",
     "output_type": "stream",
     "text": [
      "accuracy:  0.8367191914152652\n",
      "f1:  0.8360383822947334\n",
      "precision:  0.8482567883170801\n",
      "recall:  0.8367191914152652\n"
     ]
    }
   ],
   "source": [
    "y_pred_UNSW_6 = clf_UNSW_1.predict(X_UNSW_6)\n",
    "\n",
    "print('accuracy: ', accuracy_score(y_UNSW_6, y_pred_UNSW_6))\n",
    "print('f1: ', f1_score(y_UNSW_6, y_pred_UNSW_6, average='weighted'))\n",
    "print('precision: ', precision_score(y_UNSW_6, y_pred_UNSW_6, average='weighted'))\n",
    "print('recall: ', recall_score(y_UNSW_6, y_pred_UNSW_6, average='weighted'))"
   ]
  },
  {
   "cell_type": "code",
   "execution_count": null,
   "metadata": {},
   "outputs": [
    {
     "name": "stdout",
     "output_type": "stream",
     "text": [
      "12 ['Amazon Echo' 'Belkin wemo motion sensor' 'Belkin Wemo switch'\n",
      " 'HP Printer' 'Insteon Camera' 'Light Bulbs LiFX Smart Bulb'\n",
      " 'NEST Protect smoke alarm' 'Netatmo weather station' 'Samsung SmartCam'\n",
      " 'Smart Things' 'Triby Speaker' 'Withings Smart scale'] set()\n",
      "[[218587   1587   1776   1200      1      0      0      0     10      0\n",
      "       0      0]\n",
      " [     0 233849  62540      4    264      0      0      0   9916      0\n",
      "    6502      0]\n",
      " [     0 169958 297681     14  12712      0      0      0   8024      0\n",
      "    9931      0]\n",
      " [     0      7     24  16134      6      0      0      0      8      0\n",
      "      11      0]\n",
      " [     0   2897   9575     89 251506      0      0      0    839      0\n",
      "     522      0]\n",
      " [     0      0      1     11      7  58461      0      0      3      0\n",
      "       0      0]\n",
      " [     0      0      0      0      0      1   1598      0      0      0\n",
      "       0      0]\n",
      " [     0      0      0     93      5   2236     19  47366    203      0\n",
      "     102      0]\n",
      " [     0      0      0      2      4      0      0      0 290880      0\n",
      "       0      0]\n",
      " [     0      0      0      0      0      0      0      0      0  97855\n",
      "       0      0]\n",
      " [     0    753   1156     10    444      0      0      0    258      0\n",
      "   40563      0]\n",
      " [     0      0      0      0      0      0      0      0      0      0\n",
      "       0   1934]]\n"
     ]
    }
   ],
   "source": [
    "print(len(y_UNSW_6.unique()), y_UNSW_6.unique(), set(clf_UNSW_1.classes_).symmetric_difference(set(y_UNSW_6.unique())))\n",
    "cm = confusion_matrix(y_UNSW_6, y_pred_UNSW_6)\n",
    "print(cm)"
   ]
  },
  {
   "attachments": {},
   "cell_type": "markdown",
   "metadata": {},
   "source": [
    "##### Week 7"
   ]
  },
  {
   "cell_type": "code",
   "execution_count": 18,
   "metadata": {},
   "outputs": [],
   "source": [
    "df_UNSW_7 = pd.read_csv(r'D:\\Master\\datasets\\main-exp-2\\combined\\UNSW\\week_7.csv')\n",
    "df_UNSW_7 = filter_label(df_UNSW_7, 1)\n",
    "df_UNSW_7_cut = features_selection(df_UNSW_7)\n",
    "X_UNSW_7, y_UNSW_7 = test_split(df_UNSW_7_cut)"
   ]
  },
  {
   "cell_type": "code",
   "execution_count": 19,
   "metadata": {},
   "outputs": [
    {
     "name": "stdout",
     "output_type": "stream",
     "text": [
      "accuracy:  0.8524064356933976\n",
      "f1:  0.8512612248709478\n",
      "precision:  0.871234202624825\n",
      "recall:  0.8524064356933976\n"
     ]
    }
   ],
   "source": [
    "y_pred_UNSW_7 = clf_UNSW_1.predict(X_UNSW_7)\n",
    "\n",
    "print('accuracy: ', accuracy_score(y_UNSW_7, y_pred_UNSW_7))\n",
    "print('f1: ', f1_score(y_UNSW_7, y_pred_UNSW_7, average='weighted'))\n",
    "print('precision: ', precision_score(y_UNSW_7, y_pred_UNSW_7, average='weighted'))\n",
    "print('recall: ', recall_score(y_UNSW_7, y_pred_UNSW_7, average='weighted'))"
   ]
  },
  {
   "cell_type": "code",
   "execution_count": null,
   "metadata": {},
   "outputs": [
    {
     "name": "stdout",
     "output_type": "stream",
     "text": [
      "accuracy:  0.8524064356933976\n",
      "f1:  0.8512612248709478\n",
      "precision:  0.871234202624825\n",
      "recall:  0.8524064356933976\n"
     ]
    }
   ],
   "source": [
    "y_pred_UNSW_7 = clf_UNSW_1.predict(X_UNSW_7)\n",
    "\n",
    "print('accuracy: ', accuracy_score(y_UNSW_7, y_pred_UNSW_7))\n",
    "print('f1: ', f1_score(y_UNSW_7, y_pred_UNSW_7, average='weighted'))\n",
    "print('precision: ', precision_score(y_UNSW_7, y_pred_UNSW_7, average='weighted'))\n",
    "print('recall: ', recall_score(y_UNSW_7, y_pred_UNSW_7, average='weighted'))"
   ]
  },
  {
   "cell_type": "code",
   "execution_count": null,
   "metadata": {},
   "outputs": [
    {
     "name": "stdout",
     "output_type": "stream",
     "text": [
      "12 ['Amazon Echo' 'Belkin wemo motion sensor' 'Belkin Wemo switch'\n",
      " 'HP Printer' 'Insteon Camera' 'Light Bulbs LiFX Smart Bulb'\n",
      " 'NEST Protect smoke alarm' 'Netatmo weather station' 'Samsung SmartCam'\n",
      " 'Smart Things' 'Triby Speaker' 'Withings Smart scale'] set()\n",
      "[[240592    140   4098   1050      0      0      0      0     35      0\n",
      "       0      0]\n",
      " [     0 265003  37421      9    262      0      0      0   1411      0\n",
      "    9731      0]\n",
      " [     0 180958 288547     16  12747      0      0      0   7179      0\n",
      "   10639      0]\n",
      " [     0     13     81  16315     25      0      0      0     16      0\n",
      "      78      0]\n",
      " [     0   1696   8865     67 244542      0      0      0   1373      0\n",
      "     434      0]\n",
      " [     0      0      0      2      2  61041      0      0      0      0\n",
      "       0      0]\n",
      " [     0      0      0      0      0      2   1457      0      0      0\n",
      "       0      0]\n",
      " [     0      0      0      0      0      0      0  45333      0   4588\n",
      "       0      0]\n",
      " [     0     63   4588     16    254      0      0      0 286562      0\n",
      "     555      0]\n",
      " [     0      0      0      0      0      0      0      0      1 172413\n",
      "       0      0]\n",
      " [     0     57    227      7    100      0      0      0     38      0\n",
      "   44588      0]\n",
      " [     0      0      0      0      0      0      0      0      0      0\n",
      "       0   1786]]\n"
     ]
    }
   ],
   "source": [
    "print(len(y_UNSW_7.unique()), y_UNSW_7.unique(), set(clf_UNSW_1.classes_).symmetric_difference(set(y_UNSW_7.unique())))\n",
    "cm = confusion_matrix(y_UNSW_7, y_pred_UNSW_7)\n",
    "print(cm)"
   ]
  },
  {
   "attachments": {},
   "cell_type": "markdown",
   "metadata": {},
   "source": [
    "##### Week 8"
   ]
  },
  {
   "cell_type": "code",
   "execution_count": 3,
   "metadata": {},
   "outputs": [],
   "source": [
    "df_UNSW_8 = pd.read_csv(r'D:\\Master\\datasets\\main-exp-2\\combined\\UNSW\\week_8.csv')\n",
    "df_UNSW_8 = filter_label(df_UNSW_8, 1)\n",
    "df_UNSW_8_cut = features_selection(df_UNSW_8)\n",
    "X_UNSW_8, y_UNSW_8 = test_split(df_UNSW_8_cut)"
   ]
  },
  {
   "cell_type": "code",
   "execution_count": 6,
   "metadata": {},
   "outputs": [
    {
     "name": "stdout",
     "output_type": "stream",
     "text": [
      "accuracy:  0.8305392083685423\n",
      "f1:  0.8268317268596072\n",
      "precision:  0.8496871342506306\n",
      "recall:  0.8305392083685423\n"
     ]
    }
   ],
   "source": [
    "y_pred_UNSW_8 = clf_UNSW_1.predict(X_UNSW_8)\n",
    "\n",
    "print('accuracy: ', accuracy_score(y_UNSW_8, y_pred_UNSW_8))\n",
    "print('f1: ', f1_score(y_UNSW_8, y_pred_UNSW_8, average='weighted'))\n",
    "print('precision: ', precision_score(y_UNSW_8, y_pred_UNSW_8, average='weighted'))\n",
    "print('recall: ', recall_score(y_UNSW_8, y_pred_UNSW_8, average='weighted'))"
   ]
  },
  {
   "cell_type": "code",
   "execution_count": 7,
   "metadata": {},
   "outputs": [
    {
     "name": "stdout",
     "output_type": "stream",
     "text": [
      "12 ['Amazon Echo' 'Belkin wemo motion sensor' 'Belkin Wemo switch'\n",
      " 'HP Printer' 'Insteon Camera' 'Light Bulbs LiFX Smart Bulb'\n",
      " 'NEST Protect smoke alarm' 'Netatmo weather station' 'Samsung SmartCam'\n",
      " 'Smart Things' 'Triby Speaker' 'Withings Smart scale'] set()\n",
      "[[243354    533   5506   4405      1      0      0      0    734      0\n",
      "       0      0]\n",
      " [     0 255731  39073      6    767      0      0      0   4988      0\n",
      "    9071      0]\n",
      " [     0 131090 411176     56  60505      0      0      0  36847      0\n",
      "   30747      0]\n",
      " [   376   4339   8404  16013   2635      0      0      0   5168      0\n",
      "    9390      0]\n",
      " [     0   1092   8550     49 256119      0      0      0   2658      0\n",
      "     519      0]\n",
      " [     0      0      0      1      6  75759      0      0     30      0\n",
      "       1      0]\n",
      " [     0      0      0      0      0      1   1324      0      0      0\n",
      "       0      0]\n",
      " [     0      0      0      0      0      0      0  49142      0      0\n",
      "       0      0]\n",
      " [     0     23   2069      6    443      0      0      0 291643      0\n",
      "     312      0]\n",
      " [     0      0      0      0      0      0      0      0      0 177137\n",
      "       0      0]\n",
      " [     0    130    235      0    100      0      0      0    324      0\n",
      "   40112      0]\n",
      " [     0      0      0      0     12      0      0      0      0      0\n",
      "       0   1777]]\n"
     ]
    }
   ],
   "source": [
    "print(len(y_UNSW_8.unique()), y_UNSW_8.unique(), set(clf_UNSW_1.classes_).symmetric_difference(set(y_UNSW_8.unique())))\n",
    "cm = confusion_matrix(y_UNSW_8, y_pred_UNSW_8)\n",
    "print(cm)"
   ]
  },
  {
   "cell_type": "code",
   "execution_count": 8,
   "metadata": {},
   "outputs": [
    {
     "name": "stdout",
     "output_type": "stream",
     "text": [
      "row_0\n",
      "Amazon Echo                    0.998457\n",
      "Belkin Wemo switch             0.650818\n",
      "Belkin wemo motion sensor      0.865610\n",
      "HP Printer                     0.779753\n",
      "Insteon Camera                 0.798904\n",
      "Light Bulbs LiFX Smart Bulb    0.999987\n",
      "NEST Protect smoke alarm       1.000000\n",
      "Netatmo weather station        1.000000\n",
      "Samsung SmartCam               0.851781\n",
      "Smart Things                   1.000000\n",
      "Triby Speaker                  0.444937\n",
      "Withings Smart scale           1.000000\n",
      "dtype: float64\n"
     ]
    }
   ],
   "source": [
    "def classwise_accuracy():\n",
    "   a = pd.crosstab(y_pred_UNSW_8,y_UNSW_8)\n",
    "   print(a.max(axis=1)/a.sum(axis=1))\n",
    "classwise_accuracy()"
   ]
  }
 ],
 "metadata": {
  "kernelspec": {
   "display_name": "Python 3.9.13 ('codes-and-scripts': venv)",
   "language": "python",
   "name": "python3"
  },
  "language_info": {
   "codemirror_mode": {
    "name": "ipython",
    "version": 3
   },
   "file_extension": ".py",
   "mimetype": "text/x-python",
   "name": "python",
   "nbconvert_exporter": "python",
   "pygments_lexer": "ipython3",
   "version": "3.9.13"
  },
  "orig_nbformat": 4,
  "vscode": {
   "interpreter": {
    "hash": "149e89fed1c8bc5fc8673e9d888b5fb9d8ebeaeba3c799b6b7896dc6bbb91216"
   }
  }
 },
 "nbformat": 4,
 "nbformat_minor": 2
}
