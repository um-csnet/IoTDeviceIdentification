{
 "cells": [
  {
   "cell_type": "markdown",
   "metadata": {},
   "source": [
    "#### Import"
   ]
  },
  {
   "cell_type": "code",
   "execution_count": 2,
   "metadata": {},
   "outputs": [],
   "source": [
    "import pandas as pd\n",
    "import pyshark as ps\n",
    "import numpy as np\n",
    "import time\n",
    "import multiprocessing\n",
    "from glob import glob\n",
    "from datetime import timedelta\n",
    "from tqdm.notebook import tqdm\n",
    "import os\n",
    "\n",
    "#Import sklearn\n",
    "from sklearn.model_selection import train_test_split\n",
    "from sklearn.metrics import f1_score, precision_score, accuracy_score, recall_score, confusion_matrix\n",
    "from sklearn.ensemble import RandomForestClassifier\n",
    "from sklearn.multiclass import OneVsRestClassifier\n",
    "import pickle\n",
    "from sklearn.impute import SimpleImputer\n",
    "\n",
    "from sklearn.metrics import multilabel_confusion_matrix\n",
    "from sklearn.metrics import classification_report"
   ]
  },
  {
   "cell_type": "markdown",
   "metadata": {},
   "source": [
    "#### Functions"
   ]
  },
  {
   "cell_type": "code",
   "execution_count": 3,
   "metadata": {},
   "outputs": [],
   "source": [
    "def get_model():\n",
    "    model = RandomForestClassifier(\n",
    "        n_estimators=100,\n",
    "        criterion='gini',\n",
    "        # max_depth=5,\n",
    "        min_samples_split=10,\n",
    "        min_samples_leaf=2,\n",
    "        min_weight_fraction_leaf=0.0,\n",
    "        max_features='auto',\n",
    "        max_leaf_nodes=None,\n",
    "        min_impurity_decrease=0.0,\n",
    "        # min_impurity_split=None,\n",
    "        bootstrap=True,\n",
    "        oob_score=False,\n",
    "        n_jobs=-1,\n",
    "        random_state=0,\n",
    "        verbose=0,\n",
    "        warm_start=False,\n",
    "        class_weight='balanced'\n",
    "    )\n",
    "    return model\n",
    "\n",
    "def filter_label(df, i):\n",
    "    if i==0:\n",
    "        df = df.loc[df['device'] != 'Smart Plug 2']\n",
    "    elif i==1: \n",
    "        df = df.loc[(df['device'] == 'Amazon Echo') | (df['device'] == 'Belkin wemo motion sensor') | (df['device'] == 'Belkin Wemo switch') | (df['device'] == 'HP Printer') | \n",
    "        (df['device'] == 'Insteon Camera') | (df['device'] == 'Light Bulbs LiFX Smart Bulb') | (df['device'] == 'NEST Protect smoke alarm') | (df['device'] == 'Netatmo weather station') |\n",
    "        (df['device'] == 'Samsung SmartCam') | (df['device'] == 'Smart Things') | (df['device'] == 'Triby Speaker') | (df['device'] == 'Withings Smart scale')]\n",
    "        \n",
    "    return df\n",
    "\n",
    "def features_selection(df):\n",
    "    df = df[['src_port', 'dst_port', 'src2dst_bytes', 'dst2src_bytes', 'src2dst_packets', 'dst2src_packets', 'udps.bidirectional_mean_piat', 'udps.bidirectional_std_piat', 'udps.bidirectional_variance_piat', 'udps.bidirectional_skew_piat', 'udps.bidirectional_kurtosis_piat', \n",
    "            'udps.bidirectional_mean_ps', 'udps.bidirectional_std_ps', 'udps.bidirectional_variance_ps', 'udps.bidirectional_skew_ps','udps.bidirectional_kurtosis_ps', 'bidirectional_duration_ms', 'protocol', 'requested_server_name', 'device']].copy()\n",
    "    \n",
    "    return df\n",
    "\n",
    "def test_split(df):\n",
    "    X = df.iloc[:, :-1]\n",
    "    y = df.iloc[:, -1]\n",
    "    convert_dict = {'requested_server_name': str}\n",
    "    X = X.astype(convert_dict)\n",
    "    X['requested_server_name'] = pd.factorize(X['requested_server_name'])[0]\n",
    "\n",
    "    return X,y"
   ]
  },
  {
   "cell_type": "code",
   "execution_count": 3,
   "metadata": {},
   "outputs": [],
   "source": [
    "# percent_missing = df_priv_1.isnull().sum() * 100 / len(df_priv_1)\n",
    "# missing_value_df = pd.DataFrame({'column_name': df_priv_1.columns,\n",
    "#                                  'percent_missing': percent_missing})\n",
    "# missing_value_df.sort_values('percent_missing', inplace=True)"
   ]
  },
  {
   "cell_type": "markdown",
   "metadata": {},
   "source": [
    "#### PRIVATE"
   ]
  },
  {
   "cell_type": "markdown",
   "metadata": {},
   "source": [
    "##### Week 1"
   ]
  },
  {
   "cell_type": "code",
   "execution_count": 4,
   "metadata": {},
   "outputs": [],
   "source": [
    "pickle_file = r'D:\\Master\\model\\exp1-2\\priv_1_time_x.sav'\n",
    "clf_priv_1 = pickle.load(open(pickle_file, 'rb'))"
   ]
  },
  {
   "cell_type": "code",
   "execution_count": 5,
   "metadata": {},
   "outputs": [
    {
     "name": "stderr",
     "output_type": "stream",
     "text": [
      "C:\\Users\\Shogun-Sama\\AppData\\Local\\Temp\\ipykernel_12240\\2003522232.py:1: DtypeWarning: Columns (82,83,84,85) have mixed types. Specify dtype option on import or set low_memory=False.\n",
      "  df_priv_1 = pd.read_csv(r'D:\\Master\\datasets\\exp1\\Combined\\Private\\week_1.csv')\n"
     ]
    }
   ],
   "source": [
    "df_priv_1 = pd.read_csv(r'D:\\Master\\datasets\\exp1\\Combined\\Private\\week_1.csv')\n",
    "df_priv_1 = filter_label(df_priv_1, 0)\n",
    "df_priv_1_cut = features_selection(df_priv_1)\n",
    "X_priv_1, y_priv_1 = test_split(df_priv_1_cut)"
   ]
  },
  {
   "cell_type": "code",
   "execution_count": 6,
   "metadata": {},
   "outputs": [
    {
     "name": "stdout",
     "output_type": "stream",
     "text": [
      "dst_port                            0.175186\n",
      "src2dst_bytes                       0.099664\n",
      "src_port                            0.097000\n",
      "requested_server_name               0.078038\n",
      "udps.bidirectional_mean_ps          0.068098\n",
      "udps.bidirectional_mean_piat        0.064811\n",
      "bidirectional_duration_ms           0.051424\n",
      "dst2src_bytes                       0.048034\n",
      "udps.bidirectional_variance_piat    0.043182\n",
      "udps.bidirectional_kurtosis_piat    0.039224\n",
      "udps.bidirectional_std_piat         0.038515\n",
      "udps.bidirectional_skew_piat        0.037931\n",
      "udps.bidirectional_kurtosis_ps      0.032456\n",
      "udps.bidirectional_variance_ps      0.031143\n",
      "protocol                            0.029318\n",
      "udps.bidirectional_std_ps           0.025320\n",
      "udps.bidirectional_skew_ps          0.018221\n",
      "dst2src_packets                     0.013634\n",
      "src2dst_packets                     0.008799\n",
      "dtype: float64\n"
     ]
    }
   ],
   "source": [
    "feat_impts = [] \n",
    "for clf in clf_priv_1.estimators_:\n",
    "    feat_impts.append(clf.feature_importances_)\n",
    "\n",
    "# np.mean(feat_impts, axis=0)\n",
    "importances = np.mean(feat_impts, axis=0)\n",
    "# print(importances)\n",
    "\n",
    "important_features = pd.Series(data=importances, index=X_priv_1.columns)\n",
    "important_features.sort_values(ascending=False,inplace=True)\n",
    "print(important_features)"
   ]
  },
  {
   "cell_type": "code",
   "execution_count": 9,
   "metadata": {},
   "outputs": [
    {
     "data": {
      "text/plain": [
       "0           0\n",
       "1           0\n",
       "2           1\n",
       "3           0\n",
       "4           0\n",
       "         ... \n",
       "231421    159\n",
       "231422    137\n",
       "231423    139\n",
       "231424      1\n",
       "231425      1\n",
       "Name: requested_server_name, Length: 231426, dtype: int64"
      ]
     },
     "execution_count": 9,
     "metadata": {},
     "output_type": "execute_result"
    }
   ],
   "source": [
    "X_priv_1['requested_server_name']"
   ]
  },
  {
   "cell_type": "code",
   "execution_count": 10,
   "metadata": {},
   "outputs": [
    {
     "name": "stdout",
     "output_type": "stream",
     "text": [
      "training....start time:  1672389991.7143617\n"
     ]
    },
    {
     "name": "stderr",
     "output_type": "stream",
     "text": [
      "c:\\Users\\Shogun-Sama\\codes-and-scripts\\lib\\site-packages\\sklearn\\ensemble\\_forest.py:427: FutureWarning: `max_features='auto'` has been deprecated in 1.1 and will be removed in 1.3. To keep the past behaviour, explicitly set `max_features='sqrt'` or remove this parameter as it is also the default value for RandomForestClassifiers and ExtraTreesClassifiers.\n",
      "  warn(\n"
     ]
    },
    {
     "name": "stdout",
     "output_type": "stream",
     "text": [
      "time taken:  5.722245216369629\n"
     ]
    }
   ],
   "source": [
    "rf_model = get_model()\n",
    "start = time.time()\n",
    "print('training....start time: ', start)\n",
    "clf_priv_1 = rf_model.fit(X_priv_1, y_priv_1)\n",
    "stop = time.time() \n",
    "print('time taken: ', stop-start)\n",
    "\n",
    "pickle_file = r'D:\\Master\\model\\exp1-2\\priv_1_time_x.sav'\n",
    "pickle.dump(clf_priv_1, open(pickle_file, 'wb'))"
   ]
  },
  {
   "cell_type": "code",
   "execution_count": 7,
   "metadata": {},
   "outputs": [],
   "source": [
    "y_pred_priv_1 = clf_priv_1.predict(X_priv_1)"
   ]
  },
  {
   "cell_type": "code",
   "execution_count": 8,
   "metadata": {},
   "outputs": [
    {
     "name": "stdout",
     "output_type": "stream",
     "text": [
      "accuracy:  0.9982715857336687\n",
      "f1:  0.9982726493820587\n",
      "precision:  0.9982750201237695\n",
      "recall:  0.9982715857336687\n"
     ]
    }
   ],
   "source": [
    "print('accuracy: ', accuracy_score(y_priv_1, y_pred_priv_1))\n",
    "print('f1: ', f1_score(y_priv_1, y_pred_priv_1, average='weighted'))\n",
    "print('precision: ', precision_score(y_priv_1, y_pred_priv_1, average='weighted'))\n",
    "print('recall: ', recall_score(y_priv_1, y_pred_priv_1, average='weighted'))"
   ]
  },
  {
   "cell_type": "code",
   "execution_count": 9,
   "metadata": {},
   "outputs": [
    {
     "name": "stdout",
     "output_type": "stream",
     "text": [
      "['Alexa Echo Dot', 'Mi Air Purifier', 'Mi Box 3', 'Mi Home Security Camera', 'Smart Plug 1']\n",
      "[[79331     0   144     8     0]\n",
      " [    0 26738     0    39     0]\n",
      " [   81     0 21082     1     0]\n",
      " [   13    80    33 75692     0]\n",
      " [    0     0     0     1 28183]]\n"
     ]
    }
   ],
   "source": [
    "print(sorted(y_priv_1.unique()))\n",
    "cm = confusion_matrix(y_priv_1, y_pred_priv_1, labels=sorted(y_priv_1.unique()))\n",
    "print(cm)"
   ]
  },
  {
   "cell_type": "code",
   "execution_count": 10,
   "metadata": {},
   "outputs": [
    {
     "name": "stdout",
     "output_type": "stream",
     "text": [
      "row_0\n",
      "Alexa Echo Dot             0.998816\n",
      "Mi Air Purifier            0.997017\n",
      "Mi Box 3                   0.991674\n",
      "Mi Home Security Camera    0.999353\n",
      "Smart Plug 1               1.000000\n",
      "dtype: float64\n"
     ]
    }
   ],
   "source": [
    "def classwise_accuracy():\n",
    "   a = pd.crosstab(y_pred_priv_1,y_priv_1)\n",
    "   print(a.max(axis=1)/a.sum(axis=1))\n",
    "classwise_accuracy()"
   ]
  },
  {
   "cell_type": "markdown",
   "metadata": {},
   "source": [
    "##### Week 2"
   ]
  },
  {
   "cell_type": "code",
   "execution_count": 14,
   "metadata": {},
   "outputs": [
    {
     "name": "stderr",
     "output_type": "stream",
     "text": [
      "C:\\Users\\Shogun-Sama\\AppData\\Local\\Temp\\ipykernel_6944\\2066137635.py:1: DtypeWarning: Columns (82,83,84,85) have mixed types. Specify dtype option on import or set low_memory=False.\n",
      "  df_priv_2 = pd.read_csv(r'D:\\Master\\datasets\\exp1\\combined\\Private\\week_2.csv')\n"
     ]
    }
   ],
   "source": [
    "df_priv_2 = pd.read_csv(r'D:\\Master\\datasets\\exp1\\combined\\Private\\week_2.csv')\n",
    "df_priv_2 = filter_label(df_priv_2, 0)\n",
    "df_priv_2_cut = features_selection(df_priv_2)\n",
    "X_priv_2, y_priv_2 = test_split(df_priv_2_cut)"
   ]
  },
  {
   "cell_type": "code",
   "execution_count": 15,
   "metadata": {},
   "outputs": [
    {
     "name": "stdout",
     "output_type": "stream",
     "text": [
      "accuracy:  0.9641943734015346\n",
      "f1:  0.9638851607472578\n",
      "precision:  0.9661962771196783\n",
      "recall:  0.9641943734015346\n"
     ]
    }
   ],
   "source": [
    "y_pred_priv_2 = clf_priv_1.predict(X_priv_2)\n",
    "\n",
    "print('accuracy: ', accuracy_score(y_priv_2, y_pred_priv_2))\n",
    "print('f1: ', f1_score(y_priv_2, y_pred_priv_2, average='weighted'))\n",
    "print('precision: ', precision_score(y_priv_2, y_pred_priv_2, average='weighted'))\n",
    "print('recall: ', recall_score(y_priv_2, y_pred_priv_2, average='weighted'))"
   ]
  },
  {
   "cell_type": "code",
   "execution_count": 16,
   "metadata": {},
   "outputs": [
    {
     "name": "stdout",
     "output_type": "stream",
     "text": [
      "['Alexa Echo Dot', 'Mi Air Purifier', 'Mi Box 3', 'Mi Home Security Camera', 'Smart Plug 1']\n",
      "[[108018      0    740     82      0]\n",
      " [  3178  30007   3159    262      0]\n",
      " [  2066      0  31447     91      2]\n",
      " [    49    143   1394 101204     66]\n",
      " [   100      0     45    103  38464]]\n"
     ]
    }
   ],
   "source": [
    "print(sorted(y_priv_2.unique()))\n",
    "cm = confusion_matrix(y_priv_2, y_pred_priv_2, labels=sorted(y_priv_2.unique()))\n",
    "print(cm)"
   ]
  },
  {
   "cell_type": "markdown",
   "metadata": {},
   "source": [
    "##### Week 3"
   ]
  },
  {
   "cell_type": "code",
   "execution_count": 17,
   "metadata": {},
   "outputs": [
    {
     "name": "stderr",
     "output_type": "stream",
     "text": [
      "C:\\Users\\Shogun-Sama\\AppData\\Local\\Temp\\ipykernel_6944\\1727478876.py:1: DtypeWarning: Columns (82,83,84,85) have mixed types. Specify dtype option on import or set low_memory=False.\n",
      "  df_priv_3 = pd.read_csv(r'D:\\Master\\datasets\\exp1\\combined\\Private\\week_3.csv')\n"
     ]
    }
   ],
   "source": [
    "df_priv_3 = pd.read_csv(r'D:\\Master\\datasets\\exp1\\combined\\Private\\week_3.csv')\n",
    "df_priv_3 = filter_label(df_priv_3, 0)\n",
    "df_priv_3_cut = features_selection(df_priv_3)\n",
    "X_priv_3, y_priv_3 = test_split(df_priv_3_cut)"
   ]
  },
  {
   "cell_type": "code",
   "execution_count": 18,
   "metadata": {},
   "outputs": [
    {
     "name": "stdout",
     "output_type": "stream",
     "text": [
      "accuracy:  0.8871545378741069\n",
      "f1:  0.8457691102154081\n",
      "precision:  0.8980773669249261\n",
      "recall:  0.8871545378741069\n"
     ]
    }
   ],
   "source": [
    "y_pred_priv_3 = clf_priv_1.predict(X_priv_3)\n",
    "\n",
    "print('accuracy: ', accuracy_score(y_priv_3, y_pred_priv_3))\n",
    "print('f1: ', f1_score(y_priv_3, y_pred_priv_3, average='weighted'))\n",
    "print('precision: ', precision_score(y_priv_3, y_pred_priv_3, average='weighted'))\n",
    "print('recall: ', recall_score(y_priv_3, y_pred_priv_3, average='weighted'))"
   ]
  },
  {
   "cell_type": "code",
   "execution_count": 19,
   "metadata": {},
   "outputs": [
    {
     "name": "stdout",
     "output_type": "stream",
     "text": [
      "['Alexa Echo Dot', 'Mi Air Purifier', 'Mi Box 3', 'Mi Home Security Camera', 'Smart Plug 1']\n",
      "[[107508      0    649     23      0]\n",
      " [ 17249   1776  16983    970      0]\n",
      " [  1210      0  47508    121      0]\n",
      " [    43    195    141 100387      0]\n",
      " [     4      0      2     32  38593]]\n"
     ]
    }
   ],
   "source": [
    "print(sorted(y_priv_3.unique()))\n",
    "cm = confusion_matrix(y_priv_3, y_pred_priv_3, labels=sorted(y_priv_3.unique()))\n",
    "print(cm)"
   ]
  },
  {
   "cell_type": "markdown",
   "metadata": {},
   "source": [
    "##### Week 4"
   ]
  },
  {
   "cell_type": "code",
   "execution_count": 4,
   "metadata": {},
   "outputs": [
    {
     "name": "stderr",
     "output_type": "stream",
     "text": [
      "C:\\Users\\Shogun-Sama\\AppData\\Local\\Temp\\ipykernel_1280\\2667125864.py:1: DtypeWarning: Columns (82,83,84,85) have mixed types. Specify dtype option on import or set low_memory=False.\n",
      "  df_priv_4 = pd.read_csv(r'D:\\Master\\datasets\\exp1\\combined\\Private\\week_4.csv')\n"
     ]
    }
   ],
   "source": [
    "df_priv_4 = pd.read_csv(r'D:\\Master\\datasets\\exp1\\combined\\Private\\week_4.csv')\n",
    "df_priv_4 = filter_label(df_priv_4, 0)\n",
    "df_priv_4_cut = features_selection(df_priv_4)\n",
    "X_priv_4, y_priv_4 = test_split(df_priv_4_cut)"
   ]
  },
  {
   "cell_type": "code",
   "execution_count": 5,
   "metadata": {},
   "outputs": [
    {
     "name": "stdout",
     "output_type": "stream",
     "text": [
      "accuracy:  0.7927731254476338\n",
      "f1:  0.7885864675186397\n",
      "precision:  0.8810857869442854\n",
      "recall:  0.7927731254476338\n"
     ]
    }
   ],
   "source": [
    "y_pred_priv_4 = clf_priv_1.predict(X_priv_4)\n",
    "\n",
    "print('accuracy: ', accuracy_score(y_priv_4, y_pred_priv_4))\n",
    "print('f1: ', f1_score(y_priv_4, y_pred_priv_4, average='weighted'))\n",
    "print('precision: ', precision_score(y_priv_4, y_pred_priv_4, average='weighted'))\n",
    "print('recall: ', recall_score(y_priv_4, y_pred_priv_4, average='weighted'))"
   ]
  },
  {
   "cell_type": "code",
   "execution_count": 23,
   "metadata": {},
   "outputs": [
    {
     "name": "stdout",
     "output_type": "stream",
     "text": [
      "['Alexa Echo Dot', 'Mi Air Purifier', 'Mi Box 3', 'Mi Home Security Camera', 'Smart Plug 1']\n",
      "[[68771     0 31024     8     0]\n",
      " [14150  6209 13826   725     0]\n",
      " [   45     0 24190    20     0]\n",
      " [   39   159   157 94932     0]\n",
      " [    0     0     7    22 36132]]\n"
     ]
    }
   ],
   "source": [
    "print(sorted(y_priv_4.unique()))\n",
    "cm = confusion_matrix(y_priv_4, y_pred_priv_4, labels=sorted(y_priv_4.unique()))\n",
    "print(cm)"
   ]
  },
  {
   "cell_type": "code",
   "execution_count": 6,
   "metadata": {},
   "outputs": [
    {
     "name": "stdout",
     "output_type": "stream",
     "text": [
      "row_0\n",
      "Alexa Echo Dot             0.828516\n",
      "Mi Air Purifier            0.975031\n",
      "Mi Box 3                   0.448298\n",
      "Mi Home Security Camera    0.991902\n",
      "Smart Plug 1               1.000000\n",
      "dtype: float64\n"
     ]
    }
   ],
   "source": [
    "def classwise_accuracy():\n",
    "   a = pd.crosstab(y_pred_priv_4,y_priv_4)\n",
    "   print(a.max(axis=1)/a.sum(axis=1))\n",
    "classwise_accuracy()"
   ]
  },
  {
   "cell_type": "markdown",
   "metadata": {},
   "source": [
    "##### Week 5"
   ]
  },
  {
   "cell_type": "code",
   "execution_count": 7,
   "metadata": {},
   "outputs": [
    {
     "name": "stderr",
     "output_type": "stream",
     "text": [
      "C:\\Users\\Shogun-Sama\\AppData\\Local\\Temp\\ipykernel_1280\\2862187030.py:1: DtypeWarning: Columns (82,83,84,85) have mixed types. Specify dtype option on import or set low_memory=False.\n",
      "  df_priv_5 = pd.read_csv(r'D:\\Master\\datasets\\exp1\\combined\\Private\\week_5.csv')\n"
     ]
    }
   ],
   "source": [
    "df_priv_5 = pd.read_csv(r'D:\\Master\\datasets\\exp1\\combined\\Private\\week_5.csv')\n",
    "df_priv_5 = filter_label(df_priv_5, 0)\n",
    "df_priv_5_cut = features_selection(df_priv_5)\n",
    "X_priv_5, y_priv_5 = test_split(df_priv_5_cut)"
   ]
  },
  {
   "cell_type": "code",
   "execution_count": 13,
   "metadata": {},
   "outputs": [
    {
     "name": "stdout",
     "output_type": "stream",
     "text": [
      "accuracy:  0.8924615200871863\n",
      "f1:  0.9015307693554847\n",
      "precision:  0.9444237110310703\n",
      "recall:  0.8924615200871863\n"
     ]
    }
   ],
   "source": [
    "y_pred_priv_5 = clf_priv_1.predict(X_priv_5)\n",
    "\n",
    "print('accuracy: ', accuracy_score(y_priv_5, y_pred_priv_5))\n",
    "print('f1: ', f1_score(y_priv_5, y_pred_priv_5, average='weighted'))\n",
    "print('precision: ', precision_score(y_priv_5, y_pred_priv_5, average='weighted'))\n",
    "print('recall: ', recall_score(y_priv_5, y_pred_priv_5, average='weighted'))"
   ]
  },
  {
   "cell_type": "code",
   "execution_count": 26,
   "metadata": {},
   "outputs": [
    {
     "name": "stdout",
     "output_type": "stream",
     "text": [
      "['Alexa Echo Dot', 'Mi Air Purifier', 'Mi Box 3', 'Mi Home Security Camera', 'Smart Plug 1']\n",
      "[[61768     0 27163     5     0]\n",
      " [    0 31912     5    35     0]\n",
      " [  124     0 25040   338     0]\n",
      " [  569   146   417 87032     0]\n",
      " [    0     0     2     9 33367]]\n"
     ]
    }
   ],
   "source": [
    "print(sorted(y_priv_5.unique()))\n",
    "cm = confusion_matrix(y_priv_5, y_pred_priv_5, labels=sorted(y_priv_5.unique()))\n",
    "print(cm)"
   ]
  },
  {
   "cell_type": "code",
   "execution_count": 9,
   "metadata": {},
   "outputs": [
    {
     "name": "stdout",
     "output_type": "stream",
     "text": [
      "row_0\n",
      "Alexa Echo Dot             0.988905\n",
      "Mi Air Purifier            0.995446\n",
      "Mi Box 3                   0.516142\n",
      "Mi Home Security Camera    0.995573\n",
      "Smart Plug 1               1.000000\n",
      "dtype: float64\n"
     ]
    }
   ],
   "source": [
    "def classwise_accuracy():\n",
    "   a = pd.crosstab(y_pred_priv_5,y_priv_5)\n",
    "   print(a.max(axis=1)/a.sum(axis=1))\n",
    "classwise_accuracy()"
   ]
  },
  {
   "cell_type": "markdown",
   "metadata": {},
   "source": [
    "##### Week 6"
   ]
  },
  {
   "cell_type": "code",
   "execution_count": 10,
   "metadata": {},
   "outputs": [
    {
     "name": "stderr",
     "output_type": "stream",
     "text": [
      "C:\\Users\\Shogun-Sama\\AppData\\Local\\Temp\\ipykernel_1280\\1893403078.py:1: DtypeWarning: Columns (82,83,84,85) have mixed types. Specify dtype option on import or set low_memory=False.\n",
      "  df_priv_6 = pd.read_csv(r'D:\\Master\\datasets\\exp1\\combined\\Private\\week_6.csv')\n"
     ]
    }
   ],
   "source": [
    "df_priv_6 = pd.read_csv(r'D:\\Master\\datasets\\exp1\\combined\\Private\\week_6.csv')\n",
    "df_priv_6 = filter_label(df_priv_6, 0)\n",
    "df_priv_6_cut = features_selection(df_priv_6)\n",
    "X_priv_6, y_priv_6 = test_split(df_priv_6_cut)"
   ]
  },
  {
   "cell_type": "code",
   "execution_count": 11,
   "metadata": {},
   "outputs": [
    {
     "name": "stdout",
     "output_type": "stream",
     "text": [
      "accuracy:  0.7889407782415312\n",
      "f1:  0.7922036536576897\n",
      "precision:  0.8529480000410399\n",
      "recall:  0.7889407782415312\n"
     ]
    }
   ],
   "source": [
    "y_pred_priv_6 = clf_priv_1.predict(X_priv_6)\n",
    "\n",
    "print('accuracy: ', accuracy_score(y_priv_6, y_pred_priv_6))\n",
    "print('f1: ', f1_score(y_priv_6, y_pred_priv_6, average='weighted'))\n",
    "print('precision: ', precision_score(y_priv_6, y_pred_priv_6, average='weighted'))\n",
    "print('recall: ', recall_score(y_priv_6, y_pred_priv_6, average='weighted'))"
   ]
  },
  {
   "cell_type": "code",
   "execution_count": 29,
   "metadata": {},
   "outputs": [
    {
     "name": "stdout",
     "output_type": "stream",
     "text": [
      "['Alexa Echo Dot', 'Mi Air Purifier', 'Mi Box 3', 'Mi Home Security Camera', 'Smart Plug 1']\n",
      "[[60919     0 26724     5     0]\n",
      " [10314 11557  9400   529     0]\n",
      " [  738     1 29431   422     2]\n",
      " [ 8669   119    41 77980     0]\n",
      " [    1     0     4    21 33142]]\n"
     ]
    }
   ],
   "source": [
    "print(sorted(y_priv_6.unique()))\n",
    "cm = confusion_matrix(y_priv_6, y_pred_priv_6, labels=sorted(y_priv_6.unique()))\n",
    "print(cm)"
   ]
  },
  {
   "cell_type": "code",
   "execution_count": 12,
   "metadata": {},
   "outputs": [
    {
     "name": "stdout",
     "output_type": "stream",
     "text": [
      "row_0\n",
      "Alexa Echo Dot             0.755435\n",
      "Mi Air Purifier            0.989723\n",
      "Mi Box 3                   0.448643\n",
      "Mi Home Security Camera    0.987626\n",
      "Smart Plug 1               0.999940\n",
      "dtype: float64\n"
     ]
    }
   ],
   "source": [
    "def classwise_accuracy():\n",
    "   a = pd.crosstab(y_pred_priv_6,y_priv_6)\n",
    "   print(a.max(axis=1)/a.sum(axis=1))\n",
    "classwise_accuracy()"
   ]
  },
  {
   "cell_type": "markdown",
   "metadata": {},
   "source": [
    "#### UNSW"
   ]
  },
  {
   "cell_type": "markdown",
   "metadata": {},
   "source": [
    "##### Week 1"
   ]
  },
  {
   "cell_type": "code",
   "execution_count": 24,
   "metadata": {},
   "outputs": [],
   "source": [
    "# pd.set_option('display.max_rows', None)\n",
    "# missing_value_df"
   ]
  },
  {
   "cell_type": "code",
   "execution_count": 30,
   "metadata": {},
   "outputs": [
    {
     "name": "stderr",
     "output_type": "stream",
     "text": [
      "C:\\Users\\Shogun-Sama\\AppData\\Local\\Temp\\ipykernel_6944\\4258843353.py:1: DtypeWarning: Columns (81,82,83,84,85) have mixed types. Specify dtype option on import or set low_memory=False.\n",
      "  df_UNSW_1 = pd.read_csv(r'D:\\Master\\datasets\\exp1-2\\combined\\UNSW\\week_1.csv')\n"
     ]
    }
   ],
   "source": [
    "df_UNSW_1 = pd.read_csv(r'D:\\Master\\datasets\\exp1-2\\combined\\UNSW\\week_1.csv')\n",
    "df_UNSW_1 = filter_label(df_UNSW_1, 1)\n",
    "df_UNSW_1_cut = features_selection(df_UNSW_1)\n",
    "X_UNSW_1, y_UNSW_1 = test_split(df_UNSW_1_cut)"
   ]
  },
  {
   "cell_type": "code",
   "execution_count": 31,
   "metadata": {},
   "outputs": [],
   "source": [
    "percent_missing = df_UNSW_1.isnull().sum() * 100 / len(df_UNSW_1)\n",
    "missing_value_df = pd.DataFrame({'column_name': df_UNSW_1.columns,\n",
    "                                 'percent_missing': percent_missing})\n",
    "missing_value_df.sort_values('percent_missing', inplace=True)"
   ]
  },
  {
   "cell_type": "code",
   "execution_count": 32,
   "metadata": {},
   "outputs": [
    {
     "data": {
      "text/html": [
       "<div>\n",
       "<style scoped>\n",
       "    .dataframe tbody tr th:only-of-type {\n",
       "        vertical-align: middle;\n",
       "    }\n",
       "\n",
       "    .dataframe tbody tr th {\n",
       "        vertical-align: top;\n",
       "    }\n",
       "\n",
       "    .dataframe thead th {\n",
       "        text-align: right;\n",
       "    }\n",
       "</style>\n",
       "<table border=\"1\" class=\"dataframe\">\n",
       "  <thead>\n",
       "    <tr style=\"text-align: right;\">\n",
       "      <th></th>\n",
       "      <th>column_name</th>\n",
       "      <th>percent_missing</th>\n",
       "    </tr>\n",
       "  </thead>\n",
       "  <tbody>\n",
       "    <tr>\n",
       "      <th>requested_server_name</th>\n",
       "      <td>requested_server_name</td>\n",
       "      <td>83.158462</td>\n",
       "    </tr>\n",
       "  </tbody>\n",
       "</table>\n",
       "</div>"
      ],
      "text/plain": [
       "                                 column_name  percent_missing\n",
       "requested_server_name  requested_server_name        83.158462"
      ]
     },
     "execution_count": 32,
     "metadata": {},
     "output_type": "execute_result"
    }
   ],
   "source": [
    "missing_value_df.loc[missing_value_df['column_name'] == 'requested_server_name']"
   ]
  },
  {
   "cell_type": "code",
   "execution_count": 33,
   "metadata": {},
   "outputs": [
    {
     "name": "stdout",
     "output_type": "stream",
     "text": [
      "training....start time:  1672390185.3567064\n"
     ]
    },
    {
     "name": "stderr",
     "output_type": "stream",
     "text": [
      "c:\\Users\\Shogun-Sama\\codes-and-scripts\\lib\\site-packages\\sklearn\\ensemble\\_forest.py:427: FutureWarning: `max_features='auto'` has been deprecated in 1.1 and will be removed in 1.3. To keep the past behaviour, explicitly set `max_features='sqrt'` or remove this parameter as it is also the default value for RandomForestClassifiers and ExtraTreesClassifiers.\n",
      "  warn(\n"
     ]
    },
    {
     "name": "stdout",
     "output_type": "stream",
     "text": [
      "time taken:  15.309503078460693\n"
     ]
    }
   ],
   "source": [
    "rf_model = get_model()\n",
    "start = time.time()\n",
    "print('training....start time: ', start)\n",
    "clf_UNSW_1 = rf_model.fit(X_UNSW_1, y_UNSW_1)\n",
    "stop = time.time() \n",
    "print('time taken: ', stop-start)\n",
    "\n",
    "pickle_file = r'D:\\Master\\model\\exp1-2\\UNSW_1_time_x.sav'\n",
    "pickle.dump(clf_UNSW_1, open(pickle_file, 'wb'))"
   ]
  },
  {
   "cell_type": "code",
   "execution_count": 34,
   "metadata": {},
   "outputs": [
    {
     "name": "stdout",
     "output_type": "stream",
     "text": [
      "src_port                            0.141922\n",
      "src2dst_bytes                       0.111639\n",
      "dst_port                            0.098087\n",
      "udps.bidirectional_std_piat         0.070470\n",
      "udps.bidirectional_mean_ps          0.068256\n",
      "udps.bidirectional_variance_piat    0.065977\n",
      "udps.bidirectional_mean_piat        0.064407\n",
      "bidirectional_duration_ms           0.058388\n",
      "udps.bidirectional_std_ps           0.041959\n",
      "udps.bidirectional_variance_ps      0.041059\n",
      "dst2src_bytes                       0.035733\n",
      "protocol                            0.032650\n",
      "udps.bidirectional_skew_ps          0.031337\n",
      "udps.bidirectional_kurtosis_piat    0.030743\n",
      "dst2src_packets                     0.027821\n",
      "requested_server_name               0.023013\n",
      "src2dst_packets                     0.022968\n",
      "udps.bidirectional_kurtosis_ps      0.019517\n",
      "udps.bidirectional_skew_piat        0.014055\n",
      "dtype: float64\n"
     ]
    }
   ],
   "source": [
    "pickle_file = r'D:\\Master\\model\\exp1-2\\UNSW.sav'\n",
    "model = pickle.load(open(pickle_file, 'rb'))\n",
    "\n",
    "feat_impts = [] \n",
    "for clf in model.estimators_:\n",
    "    feat_impts.append(clf.feature_importances_)\n",
    "\n",
    "# np.mean(feat_impts, axis=0)\n",
    "importances = np.mean(feat_impts, axis=0)\n",
    "# print(importances)\n",
    "\n",
    "important_features = pd.Series(data=importances, index=X_UNSW_1.columns)\n",
    "important_features.sort_values(ascending=False,inplace=True)\n",
    "print(important_features)"
   ]
  },
  {
   "cell_type": "code",
   "execution_count": 35,
   "metadata": {},
   "outputs": [],
   "source": [
    "y_pred_UNSW_1 = clf_UNSW_1.predict(X_UNSW_1)"
   ]
  },
  {
   "cell_type": "code",
   "execution_count": 36,
   "metadata": {},
   "outputs": [
    {
     "name": "stdout",
     "output_type": "stream",
     "text": [
      "accuracy:  0.8244227353463588\n",
      "f1:  0.8276778480920322\n",
      "precision:  0.8668384075684372\n",
      "recall:  0.8244227353463588\n"
     ]
    }
   ],
   "source": [
    "print('accuracy: ', accuracy_score(y_UNSW_1, y_pred_UNSW_1))\n",
    "print('f1: ', f1_score(y_UNSW_1, y_pred_UNSW_1, average='weighted'))\n",
    "print('precision: ', precision_score(y_UNSW_1, y_pred_UNSW_1, average='weighted'))\n",
    "print('recall: ', recall_score(y_UNSW_1, y_pred_UNSW_1, average='weighted'))"
   ]
  },
  {
   "cell_type": "code",
   "execution_count": 37,
   "metadata": {},
   "outputs": [
    {
     "name": "stdout",
     "output_type": "stream",
     "text": [
      "row_0\n",
      "Amazon Echo                    0.999421\n",
      "Belkin Wemo switch             0.546219\n",
      "Belkin wemo motion sensor      0.630656\n",
      "HP Printer                     0.498279\n",
      "Insteon Camera                 0.999879\n",
      "Light Bulbs LiFX Smart Bulb    0.998037\n",
      "NEST Protect smoke alarm       0.912424\n",
      "Netatmo weather station        0.999313\n",
      "Samsung SmartCam               0.999477\n",
      "Smart Things                   0.999824\n",
      "Triby Speaker                  0.999223\n",
      "Withings Smart scale           0.956716\n",
      "dtype: float64\n"
     ]
    }
   ],
   "source": [
    "def classwise_accuracy():\n",
    "   a = pd.crosstab(y_pred_UNSW_1,y_UNSW_1)\n",
    "   print(a.max(axis=1)/a.sum(axis=1))\n",
    "classwise_accuracy()"
   ]
  },
  {
   "cell_type": "code",
   "execution_count": 38,
   "metadata": {},
   "outputs": [
    {
     "name": "stdout",
     "output_type": "stream",
     "text": [
      "['Amazon Echo', 'Belkin Wemo switch', 'Belkin wemo motion sensor', 'HP Printer', 'Insteon Camera', 'Light Bulbs LiFX Smart Bulb', 'NEST Protect smoke alarm', 'Netatmo weather station', 'Samsung SmartCam', 'Smart Things', 'Triby Speaker', 'Withings Smart scale']\n",
      "[[84518     0     0     1     3     0     0     0     1     0     3     0]\n",
      " [    1 33374  1085 10514     0     0     0     0     1     1     1     0]\n",
      " [    0 27703 24658 10910     1     2     0     0    28     2     0     0]\n",
      " [    0     0     0 37647     0     0     2     0     0     0     0     1]\n",
      " [    4     1     0  1052 99169     0     2     3     3     0     2     2]\n",
      " [    0     0     0     0     0  4068     0     0     0     0     0     0]\n",
      " [    0     0     0     1     0     0    78     0     0     0     0     6]\n",
      " [    0     0     0     0     0     0   896 10185     0     0     1  1923]\n",
      " [   43    22 13356 15428     8     6     4     4 64965     0     4     0]\n",
      " [    0     0     0     0     0     0     0     0     0 17007     0     0]\n",
      " [    1     0     0     1     0     0     0     0     1     0 14139     0]\n",
      " [    0     0     0     0     0     0     0     0     0     0     0    78]]\n"
     ]
    }
   ],
   "source": [
    "print(sorted(y_UNSW_1.unique()))\n",
    "cm = confusion_matrix(y_UNSW_1, y_pred_UNSW_1, labels=sorted(y_UNSW_1.unique()))\n",
    "print(cm)"
   ]
  },
  {
   "cell_type": "markdown",
   "metadata": {},
   "source": [
    "##### Week 2"
   ]
  },
  {
   "cell_type": "code",
   "execution_count": 39,
   "metadata": {},
   "outputs": [
    {
     "name": "stderr",
     "output_type": "stream",
     "text": [
      "C:\\Users\\Shogun-Sama\\AppData\\Local\\Temp\\ipykernel_6944\\3667564106.py:1: DtypeWarning: Columns (82,83,84,85) have mixed types. Specify dtype option on import or set low_memory=False.\n",
      "  df_UNSW_2 = pd.read_csv(r'D:\\Master\\datasets\\exp1-2\\combined\\UNSW\\week_2.csv')\n"
     ]
    }
   ],
   "source": [
    "df_UNSW_2 = pd.read_csv(r'D:\\Master\\datasets\\exp1-2\\combined\\UNSW\\week_2.csv')\n",
    "df_UNSW_2 = filter_label(df_UNSW_2, 1)\n",
    "df_UNSW_2_cut = features_selection(df_UNSW_2)\n",
    "X_UNSW_2, y_UNSW_2 = test_split(df_UNSW_2_cut)"
   ]
  },
  {
   "cell_type": "code",
   "execution_count": 40,
   "metadata": {},
   "outputs": [
    {
     "name": "stdout",
     "output_type": "stream",
     "text": [
      "accuracy:  0.8097784839042328\n",
      "f1:  0.8117054087940014\n",
      "precision:  0.8469819093286808\n",
      "recall:  0.8097784839042328\n"
     ]
    }
   ],
   "source": [
    "y_pred_UNSW_2 = clf_UNSW_1.predict(X_UNSW_2)\n",
    "\n",
    "print('accuracy: ', accuracy_score(y_UNSW_2, y_pred_UNSW_2))\n",
    "print('f1: ', f1_score(y_UNSW_2, y_pred_UNSW_2, average='weighted'))\n",
    "print('precision: ', precision_score(y_UNSW_2, y_pred_UNSW_2, average='weighted'))\n",
    "print('recall: ', recall_score(y_UNSW_2, y_pred_UNSW_2, average='weighted'))"
   ]
  },
  {
   "cell_type": "code",
   "execution_count": 41,
   "metadata": {},
   "outputs": [
    {
     "name": "stdout",
     "output_type": "stream",
     "text": [
      "['Amazon Echo', 'Belkin Wemo switch', 'Belkin wemo motion sensor', 'HP Printer', 'Insteon Camera', 'Light Bulbs LiFX Smart Bulb', 'NEST Protect smoke alarm', 'Netatmo weather station', 'Samsung SmartCam', 'Smart Things', 'Triby Speaker', 'Withings Smart scale']\n",
      "[[ 97688      0      1      3     12     16      0      3      6      0\n",
      "       6      0]\n",
      " [    12  33374   6524  12011     24      0      0      0     33     14\n",
      "      10      0]\n",
      " [    11  35876  21458  11957     12      0      1      0     37      4\n",
      "       6      0]\n",
      " [    98      0      6  41231    120      2     16      2     76      7\n",
      "      76      1]\n",
      " [     9      0      1   4789 135089      0      0      0     32      0\n",
      "       0      1]\n",
      " [    28      0      0      1      1  17652      0      2      8      0\n",
      "       1      0]\n",
      " [     0      0      0      3      0      0     90     12      2      0\n",
      "       0      8]\n",
      " [     1      0      0      0      1      0   1481   9171      0      0\n",
      "       3   1741]\n",
      " [    80     13  12686  14032     26     10      1      2  56506      0\n",
      "       2      0]\n",
      " [     0      0      0      0      0      0      0      0      0   8459\n",
      "       0      0]\n",
      " [    20      0      0      5     11      1      1      0      4      0\n",
      "   13467      0]\n",
      " [     2      0      0      0      0      0      0      4      0      0\n",
      "       0     66]]\n"
     ]
    }
   ],
   "source": [
    "print(sorted(y_UNSW_2.unique()))\n",
    "cm = confusion_matrix(y_UNSW_2, y_pred_UNSW_2, labels=sorted(y_UNSW_2.unique()))\n",
    "print(cm)"
   ]
  },
  {
   "cell_type": "markdown",
   "metadata": {},
   "source": [
    "##### Week 3"
   ]
  },
  {
   "cell_type": "code",
   "execution_count": 42,
   "metadata": {},
   "outputs": [
    {
     "name": "stderr",
     "output_type": "stream",
     "text": [
      "C:\\Users\\Shogun-Sama\\AppData\\Local\\Temp\\ipykernel_6944\\3669282140.py:1: DtypeWarning: Columns (82,83,84,85) have mixed types. Specify dtype option on import or set low_memory=False.\n",
      "  df_UNSW_3 = pd.read_csv(r'D:\\Master\\datasets\\exp1-2\\combined\\UNSW\\week_3.csv')\n"
     ]
    }
   ],
   "source": [
    "df_UNSW_3 = pd.read_csv(r'D:\\Master\\datasets\\exp1-2\\combined\\UNSW\\week_3.csv')\n",
    "df_UNSW_3 = filter_label(df_UNSW_3, 1)\n",
    "df_UNSW_3_cut = features_selection(df_UNSW_3)\n",
    "X_UNSW_3, y_UNSW_3 = test_split(df_UNSW_3_cut)"
   ]
  },
  {
   "cell_type": "code",
   "execution_count": 43,
   "metadata": {},
   "outputs": [
    {
     "name": "stdout",
     "output_type": "stream",
     "text": [
      "accuracy:  0.7990065117044288\n",
      "f1:  0.802380169894106\n",
      "precision:  0.8493915717548468\n",
      "recall:  0.7990065117044288\n"
     ]
    }
   ],
   "source": [
    "y_pred_UNSW_3 = clf_UNSW_1.predict(X_UNSW_3)\n",
    "\n",
    "print('accuracy: ', accuracy_score(y_UNSW_3, y_pred_UNSW_3))\n",
    "print('f1: ', f1_score(y_UNSW_3, y_pred_UNSW_3, average='weighted'))\n",
    "print('precision: ', precision_score(y_UNSW_3, y_pred_UNSW_3, average='weighted'))\n",
    "print('recall: ', recall_score(y_UNSW_3, y_pred_UNSW_3, average='weighted'))"
   ]
  },
  {
   "cell_type": "code",
   "execution_count": 44,
   "metadata": {},
   "outputs": [
    {
     "name": "stdout",
     "output_type": "stream",
     "text": [
      "['Amazon Echo', 'Belkin Wemo switch', 'Belkin wemo motion sensor', 'HP Printer', 'Insteon Camera', 'Light Bulbs LiFX Smart Bulb', 'NEST Protect smoke alarm', 'Netatmo weather station', 'Samsung SmartCam', 'Smart Things', 'Triby Speaker', 'Withings Smart scale']\n",
      "[[ 92722      0      0      2      4      8      0      0      2      0\n",
      "       4      0]\n",
      " [     4  31424   4096  17067      4      0      0      1     38      1\n",
      "       1      0]\n",
      " [     5  32235  22471  17110      3      0      0      3     43      0\n",
      "       1      0]\n",
      " [    49      0      2  43255     23      1      3      0     29      0\n",
      "       6      0]\n",
      " [     0      0      0   4547 125096      0      0      0     10      0\n",
      "       0      0]\n",
      " [     8      0      0      0      2  16648      0      0      4      0\n",
      "       3      0]\n",
      " [     0      0      0      4      0      0     57      7      1      0\n",
      "       0      5]\n",
      " [     0      0      0      0      0      0   1448   8973      0      0\n",
      "       8   1720]\n",
      " [    49      1  10863  18038      6      8      3      1  54872      0\n",
      "       3      0]\n",
      " [     1      0      0      0      0      0      0      0      0  18656\n",
      "       0      0]\n",
      " [     9      0      0      6      1      0      0      0      0      0\n",
      "   13145      0]\n",
      " [     2      0      0      0      0      0      0      4      0      0\n",
      "       1     56]]\n"
     ]
    }
   ],
   "source": [
    "print(sorted(y_UNSW_3.unique()))\n",
    "cm = confusion_matrix(y_UNSW_3, y_pred_UNSW_3, labels=sorted(y_UNSW_3.unique()))\n",
    "print(cm)"
   ]
  },
  {
   "cell_type": "markdown",
   "metadata": {},
   "source": [
    "##### Week 4"
   ]
  },
  {
   "cell_type": "code",
   "execution_count": 45,
   "metadata": {},
   "outputs": [
    {
     "name": "stderr",
     "output_type": "stream",
     "text": [
      "C:\\Users\\Shogun-Sama\\AppData\\Local\\Temp\\ipykernel_6944\\341971403.py:1: DtypeWarning: Columns (82,83,84,85) have mixed types. Specify dtype option on import or set low_memory=False.\n",
      "  df_UNSW_4 = pd.read_csv(r'D:\\Master\\datasets\\exp1-2\\combined\\UNSW\\week_4.csv')\n"
     ]
    }
   ],
   "source": [
    "df_UNSW_4 = pd.read_csv(r'D:\\Master\\datasets\\exp1-2\\combined\\UNSW\\week_4.csv')\n",
    "df_UNSW_4 = filter_label(df_UNSW_4, 1)\n",
    "df_UNSW_4_cut = features_selection(df_UNSW_4)\n",
    "X_UNSW_4, y_UNSW_4 = test_split(df_UNSW_4_cut)"
   ]
  },
  {
   "cell_type": "code",
   "execution_count": 46,
   "metadata": {},
   "outputs": [
    {
     "name": "stdout",
     "output_type": "stream",
     "text": [
      "accuracy:  0.7876974336022523\n",
      "f1:  0.7896980249797888\n",
      "precision:  0.8418116845077106\n",
      "recall:  0.7876974336022523\n"
     ]
    }
   ],
   "source": [
    "y_pred_UNSW_4 = clf_UNSW_1.predict(X_UNSW_4)\n",
    "\n",
    "print('accuracy: ', accuracy_score(y_UNSW_4, y_pred_UNSW_4))\n",
    "print('f1: ', f1_score(y_UNSW_4, y_pred_UNSW_4, average='weighted'))\n",
    "print('precision: ', precision_score(y_UNSW_4, y_pred_UNSW_4, average='weighted'))\n",
    "print('recall: ', recall_score(y_UNSW_4, y_pred_UNSW_4, average='weighted'))"
   ]
  },
  {
   "cell_type": "code",
   "execution_count": 47,
   "metadata": {},
   "outputs": [
    {
     "name": "stdout",
     "output_type": "stream",
     "text": [
      "['Amazon Echo', 'Belkin Wemo switch', 'Belkin wemo motion sensor', 'HP Printer', 'Insteon Camera', 'Light Bulbs LiFX Smart Bulb', 'NEST Protect smoke alarm', 'Netatmo weather station', 'Samsung SmartCam', 'Smart Things', 'Triby Speaker', 'Withings Smart scale']\n",
      "[[ 86885      0      1      0     25      4      0      1      9      0\n",
      "      27      0]\n",
      " [     7  32974   3988  18287      4      0      0      2     14      5\n",
      "       0      0]\n",
      " [     6  34159  30535  18260     18      0      0      2     22      2\n",
      "       2      0]\n",
      " [     6      0      1  45367      3      1      1      0     25      0\n",
      "      18      2]\n",
      " [    37      0      1   4821 129664      0      0      0     19      0\n",
      "       2      0]\n",
      " [   141      0      0      0      2  17588      0      0      9      0\n",
      "       2      0]\n",
      " [     0      0      0      3      0      0     86     10      1      0\n",
      "       0      6]\n",
      " [     0      0      0      0      0      0    144   1133      0      0\n",
      "       3    217]\n",
      " [    43      1  11486  19115      5      6      3      1  42352      0\n",
      "       3      0]\n",
      " [     0      0      0      0      0      0      0      0      0  11269\n",
      "       0      0]\n",
      " [     9      0      0      1      1      0      0      0      0      0\n",
      "   13919      0]\n",
      " [     2      0      0      0      0      0      0      3      0      0\n",
      "       0     63]]\n"
     ]
    }
   ],
   "source": [
    "print(sorted(y_UNSW_4.unique()))\n",
    "cm = confusion_matrix(y_UNSW_4, y_pred_UNSW_4, labels=sorted(y_UNSW_4.unique()))\n",
    "print(cm)"
   ]
  },
  {
   "cell_type": "markdown",
   "metadata": {},
   "source": [
    "##### Week 5"
   ]
  },
  {
   "cell_type": "code",
   "execution_count": 48,
   "metadata": {},
   "outputs": [
    {
     "name": "stderr",
     "output_type": "stream",
     "text": [
      "C:\\Users\\Shogun-Sama\\AppData\\Local\\Temp\\ipykernel_6944\\1876131839.py:1: DtypeWarning: Columns (82,83,84,85) have mixed types. Specify dtype option on import or set low_memory=False.\n",
      "  df_UNSW_5 = pd.read_csv(r'D:\\Master\\datasets\\exp1-2\\combined\\UNSW\\week_5.csv')\n"
     ]
    }
   ],
   "source": [
    "df_UNSW_5 = pd.read_csv(r'D:\\Master\\datasets\\exp1-2\\combined\\UNSW\\week_5.csv')\n",
    "df_UNSW_5 = filter_label(df_UNSW_5, 1)\n",
    "df_UNSW_5_cut = features_selection(df_UNSW_5)\n",
    "X_UNSW_5, y_UNSW_5 = test_split(df_UNSW_5_cut)"
   ]
  },
  {
   "cell_type": "code",
   "execution_count": 67,
   "metadata": {},
   "outputs": [
    {
     "name": "stdout",
     "output_type": "stream",
     "text": [
      "accuracy:  0.8269095959695225\n",
      "f1:  0.8326850926876856\n",
      "precision:  0.8745980318977186\n",
      "recall:  0.8269095959695225\n"
     ]
    }
   ],
   "source": [
    "y_pred_UNSW_5 = clf_UNSW_1.predict(X_UNSW_5)\n",
    "\n",
    "print('accuracy: ', accuracy_score(y_UNSW_5, y_pred_UNSW_5))\n",
    "print('f1: ', f1_score(y_UNSW_5, y_pred_UNSW_5, average='weighted'))\n",
    "print('precision: ', precision_score(y_UNSW_5, y_pred_UNSW_5, average='weighted'))\n",
    "print('recall: ', recall_score(y_UNSW_5, y_pred_UNSW_5, average='weighted'))"
   ]
  },
  {
   "cell_type": "code",
   "execution_count": 50,
   "metadata": {},
   "outputs": [
    {
     "name": "stdout",
     "output_type": "stream",
     "text": [
      "['Amazon Echo', 'Belkin Wemo switch', 'Belkin wemo motion sensor', 'HP Printer', 'Insteon Camera', 'Light Bulbs LiFX Smart Bulb', 'NEST Protect smoke alarm', 'Netatmo weather station', 'Samsung SmartCam', 'Smart Things', 'Triby Speaker', 'Withings Smart scale']\n",
      "[[ 99463      3      0    130     16     23      0      1    120      0\n",
      "     111      0]\n",
      " [     5  17797   4900  18267      5      1      1      0     36     48\n",
      "       2      0]\n",
      " [     5  13500  13886   7720      3      1      1      0      9      2\n",
      "       1      0]\n",
      " [     4      1     19  45311     10      0      2      0      9      0\n",
      "       5      1]\n",
      " [    54      0      3   4818 131979      0      0      0     36      0\n",
      "      77      0]\n",
      " [    11      0      0      9      0  11763      0      0      4      0\n",
      "      12      0]\n",
      " [     0      0      0      3      0      0     69      7      0      0\n",
      "       0      7]\n",
      " [     0      0      0      0      0      0    542   3825      0      0\n",
      "       3    700]\n",
      " [    68      0   4875  19094      8      8      2      0  42684      0\n",
      "       3      0]\n",
      " [     6      0      2      9     26      0      0      1      4   9141\n",
      "       2   3643]\n",
      " [   138      0      0      0      0      0      0      1    109      0\n",
      "    2672      1]\n",
      " [     3      0      0      0      2      0      0      7      0      0\n",
      "       0     61]]\n"
     ]
    }
   ],
   "source": [
    "print(sorted(y_UNSW_5.unique()))\n",
    "cm = confusion_matrix(y_UNSW_5, y_pred_UNSW_5, labels=sorted(y_UNSW_5.unique()))\n",
    "print(cm)"
   ]
  },
  {
   "cell_type": "code",
   "execution_count": 51,
   "metadata": {},
   "outputs": [
    {
     "name": "stdout",
     "output_type": "stream",
     "text": [
      "['Amazon Echo' 'Belkin Wemo switch' 'Belkin wemo motion sensor'\n",
      " 'HP Printer' 'Insteon Camera' 'Light Bulbs LiFX Smart Bulb'\n",
      " 'NEST Protect smoke alarm' 'Netatmo weather station' 'Samsung SmartCam'\n",
      " 'Smart Things' 'Triby Speaker' 'Withings Smart scale']\n",
      "12\n"
     ]
    }
   ],
   "source": [
    "print(np.unique(y_pred_UNSW_5))\n",
    "print(len(np.unique(y_pred_UNSW_5)))\n",
    "\n",
    "labels_15=['Amazon Echo','Belkin Wemo switch','Belkin wemo motion sensor','Dropcam','HP Printer',\n",
    "'Insteon Camera','Light Bulbs LiFX Smart Bulb','NEST Protect smoke alarm','Netatmo weather station','PIX-STAR Photo-frame','Samsung SmartCam','Smart Things','Triby Speaker','iHome Power Plug', 'Withings Smart scale']"
   ]
  },
  {
   "cell_type": "code",
   "execution_count": 52,
   "metadata": {},
   "outputs": [
    {
     "name": "stdout",
     "output_type": "stream",
     "text": [
      "                             precision    recall  f1-score   support\n",
      "\n",
      "                Amazon Echo       1.00      1.00      1.00     99867\n",
      "         Belkin Wemo switch       0.57      0.43      0.49     41062\n",
      "  Belkin wemo motion sensor       0.59      0.40      0.47     35128\n",
      "                 HP Printer       0.48      1.00      0.64     45362\n",
      "             Insteon Camera       1.00      0.96      0.98    136967\n",
      "Light Bulbs LiFX Smart Bulb       1.00      1.00      1.00     11799\n",
      "   NEST Protect smoke alarm       0.11      0.80      0.20        86\n",
      "    Netatmo weather station       1.00      0.75      0.86      5070\n",
      "           Samsung SmartCam       0.99      0.64      0.78     66742\n",
      "               Smart Things       0.99      0.71      0.83     12834\n",
      "              Triby Speaker       0.93      0.91      0.92      2921\n",
      "       Withings Smart scale       0.01      0.84      0.03        73\n",
      "\n",
      "                   accuracy                           0.83    457911\n",
      "                  macro avg       0.72      0.79      0.68    457911\n",
      "               weighted avg       0.87      0.83      0.83    457911\n",
      "\n"
     ]
    }
   ],
   "source": [
    "from sklearn.metrics import multilabel_confusion_matrix\n",
    "from sklearn.metrics import classification_report\n",
    "labels_16= ['Amazon Echo','Belkin wemo motion sensor','Belkin Wemo switch','Dropcam','HP Printer','iHome Power Plug','Insteon Camera','Light Bulbs LiFX Smart Bulb','NEST Protect smoke alarm','Netatmo weather station','Netatmo Welcome','PIX-STAR Photo-frame','Samsung SmartCam','Smart Things','Triby Speaker','Withings Smart scale']\n",
    "# multilabel_confusion_matrix(y_UNSW_5, y_pred_UNSW_5,labels=labels_15)\n",
    "print(classification_report(y_UNSW_5, y_pred_UNSW_5,labels=sorted(y_UNSW_5.unique())))"
   ]
  },
  {
   "cell_type": "code",
   "execution_count": 53,
   "metadata": {},
   "outputs": [
    {
     "name": "stdout",
     "output_type": "stream",
     "text": [
      "['Amazon Echo', 'Belkin Wemo switch', 'Belkin wemo motion sensor', 'HP Printer', 'Insteon Camera', 'Light Bulbs LiFX Smart Bulb', 'NEST Protect smoke alarm', 'Netatmo weather station', 'Samsung SmartCam', 'Smart Things', 'Triby Speaker', 'Withings Smart scale']\n",
      "[[ 99463      3      0    130     16     23      0      1    120      0\n",
      "     111      0]\n",
      " [     5  17797   4900  18267      5      1      1      0     36     48\n",
      "       2      0]\n",
      " [     5  13500  13886   7720      3      1      1      0      9      2\n",
      "       1      0]\n",
      " [     4      1     19  45311     10      0      2      0      9      0\n",
      "       5      1]\n",
      " [    54      0      3   4818 131979      0      0      0     36      0\n",
      "      77      0]\n",
      " [    11      0      0      9      0  11763      0      0      4      0\n",
      "      12      0]\n",
      " [     0      0      0      3      0      0     69      7      0      0\n",
      "       0      7]\n",
      " [     0      0      0      0      0      0    542   3825      0      0\n",
      "       3    700]\n",
      " [    68      0   4875  19094      8      8      2      0  42684      0\n",
      "       3      0]\n",
      " [     6      0      2      9     26      0      0      1      4   9141\n",
      "       2   3643]\n",
      " [   138      0      0      0      0      0      0      1    109      0\n",
      "    2672      1]\n",
      " [     3      0      0      0      2      0      0      7      0      0\n",
      "       0     61]]\n"
     ]
    }
   ],
   "source": [
    "print(sorted(y_UNSW_5.unique()))\n",
    "cm = confusion_matrix(y_UNSW_5, y_pred_UNSW_5, labels=sorted(y_UNSW_5.unique()))\n",
    "print(cm)"
   ]
  },
  {
   "cell_type": "markdown",
   "metadata": {},
   "source": [
    "##### Week 6"
   ]
  },
  {
   "cell_type": "code",
   "execution_count": 54,
   "metadata": {},
   "outputs": [
    {
     "name": "stderr",
     "output_type": "stream",
     "text": [
      "C:\\Users\\Shogun-Sama\\AppData\\Local\\Temp\\ipykernel_6944\\628812024.py:1: DtypeWarning: Columns (82,83,84,85) have mixed types. Specify dtype option on import or set low_memory=False.\n",
      "  df_UNSW_6 = pd.read_csv(r'D:\\Master\\datasets\\exp1-2\\combined\\UNSW\\week_6.csv')\n"
     ]
    }
   ],
   "source": [
    "df_UNSW_6 = pd.read_csv(r'D:\\Master\\datasets\\exp1-2\\combined\\UNSW\\week_6.csv')\n",
    "df_UNSW_6 = filter_label(df_UNSW_6, 1)\n",
    "df_UNSW_6_cut = features_selection(df_UNSW_6)\n",
    "X_UNSW_6, y_UNSW_6 = test_split(df_UNSW_6_cut)"
   ]
  },
  {
   "cell_type": "code",
   "execution_count": 55,
   "metadata": {},
   "outputs": [
    {
     "name": "stdout",
     "output_type": "stream",
     "text": [
      "accuracy:  0.7801485720406087\n",
      "f1:  0.7837019574932542\n",
      "precision:  0.8354414110010167\n",
      "recall:  0.7801485720406087\n"
     ]
    }
   ],
   "source": [
    "y_pred_UNSW_6 = clf_UNSW_1.predict(X_UNSW_6)\n",
    "\n",
    "print('accuracy: ', accuracy_score(y_UNSW_6, y_pred_UNSW_6))\n",
    "print('f1: ', f1_score(y_UNSW_6, y_pred_UNSW_6, average='weighted'))\n",
    "print('precision: ', precision_score(y_UNSW_6, y_pred_UNSW_6, average='weighted'))\n",
    "print('recall: ', recall_score(y_UNSW_6, y_pred_UNSW_6, average='weighted'))"
   ]
  },
  {
   "cell_type": "code",
   "execution_count": 56,
   "metadata": {},
   "outputs": [
    {
     "name": "stdout",
     "output_type": "stream",
     "text": [
      "['Amazon Echo', 'Belkin Wemo switch', 'Belkin wemo motion sensor', 'HP Printer', 'Insteon Camera', 'Light Bulbs LiFX Smart Bulb', 'NEST Protect smoke alarm', 'Netatmo weather station', 'Samsung SmartCam', 'Smart Things', 'Triby Speaker', 'Withings Smart scale']\n",
      "[[ 84715      0      0     17     11     12      0      0     33      1\n",
      "      12      0]\n",
      " [     5  30529   6386  17568      5      2      4      0      1      9\n",
      "       0      0]\n",
      " [     4  34738  29470  17685      5      4      3      0      8      0\n",
      "       0      0]\n",
      " [     3      0     17  44210      6      5      8      0      4      0\n",
      "      16      1]\n",
      " [   277      0      2   4701 128809      0      0      0     15      0\n",
      "       4      0]\n",
      " [    20      0      1      2      2  16386      2      0      8      0\n",
      "      10      0]\n",
      " [     0      0      0      2      0      0     79      9      0      0\n",
      "       0      7]\n",
      " [     2      0      0      0      0      0   1402   8952      0      0\n",
      "      14   1649]\n",
      " [    40      1  11488  18622      7     10      6      0  39262      0\n",
      "       0      0]\n",
      " [     2      1      0      1      0      0      0      0      0  10822\n",
      "       0      0]\n",
      " [    19      0      0     15      4      2      2      4     14      0\n",
      "   14588      7]\n",
      " [     1      0      0      0      0      0      0      0      0      0\n",
      "       0     74]]\n"
     ]
    }
   ],
   "source": [
    "print(sorted(y_UNSW_6.unique()))\n",
    "cm = confusion_matrix(y_UNSW_6, y_pred_UNSW_6, labels=sorted(y_UNSW_6.unique()))\n",
    "print(cm)"
   ]
  },
  {
   "cell_type": "code",
   "execution_count": 57,
   "metadata": {},
   "outputs": [
    {
     "name": "stdout",
     "output_type": "stream",
     "text": [
      "row_0\n",
      "Amazon Echo                    0.995616\n",
      "Belkin Wemo switch             0.532228\n",
      "Belkin wemo motion sensor      0.622203\n",
      "HP Printer                     0.429962\n",
      "Insteon Camera                 0.999690\n",
      "Light Bulbs LiFX Smart Bulb    0.997869\n",
      "NEST Protect smoke alarm       0.930943\n",
      "Netatmo weather station        0.998550\n",
      "Samsung SmartCam               0.997890\n",
      "Smart Things                   0.999077\n",
      "Triby Speaker                  0.996176\n",
      "Withings Smart scale           0.948792\n",
      "dtype: float64\n"
     ]
    }
   ],
   "source": [
    "def classwise_accuracy():\n",
    "   a = pd.crosstab(y_pred_UNSW_6,y_UNSW_6)\n",
    "   print(a.max(axis=1)/a.sum(axis=1))\n",
    "classwise_accuracy()"
   ]
  },
  {
   "cell_type": "markdown",
   "metadata": {},
   "source": [
    "##### Week 7"
   ]
  },
  {
   "cell_type": "code",
   "execution_count": 58,
   "metadata": {},
   "outputs": [
    {
     "name": "stderr",
     "output_type": "stream",
     "text": [
      "C:\\Users\\Shogun-Sama\\AppData\\Local\\Temp\\ipykernel_6944\\1743511443.py:1: DtypeWarning: Columns (82,83,84,85) have mixed types. Specify dtype option on import or set low_memory=False.\n",
      "  df_UNSW_7 = pd.read_csv(r'D:\\Master\\datasets\\exp1-2\\combined\\UNSW\\week_7.csv')\n"
     ]
    }
   ],
   "source": [
    "df_UNSW_7 = pd.read_csv(r'D:\\Master\\datasets\\exp1-2\\combined\\UNSW\\week_7.csv')\n",
    "df_UNSW_7 = filter_label(df_UNSW_7, 1)\n",
    "df_UNSW_7_cut = features_selection(df_UNSW_7)\n",
    "X_UNSW_7, y_UNSW_7 = test_split(df_UNSW_7_cut)"
   ]
  },
  {
   "cell_type": "code",
   "execution_count": 59,
   "metadata": {},
   "outputs": [
    {
     "name": "stdout",
     "output_type": "stream",
     "text": [
      "accuracy:  0.7846593056579957\n",
      "f1:  0.7886625761818908\n",
      "precision:  0.837094260172052\n",
      "recall:  0.7846593056579957\n"
     ]
    }
   ],
   "source": [
    "y_pred_UNSW_7 = clf_UNSW_1.predict(X_UNSW_7)\n",
    "\n",
    "print('accuracy: ', accuracy_score(y_UNSW_7, y_pred_UNSW_7))\n",
    "print('f1: ', f1_score(y_UNSW_7, y_pred_UNSW_7, average='weighted'))\n",
    "print('precision: ', precision_score(y_UNSW_7, y_pred_UNSW_7, average='weighted'))\n",
    "print('recall: ', recall_score(y_UNSW_7, y_pred_UNSW_7, average='weighted'))"
   ]
  },
  {
   "cell_type": "code",
   "execution_count": 60,
   "metadata": {},
   "outputs": [],
   "source": [
    "labels_15=['Amazon Echo','Belkin Wemo switch','Belkin wemo motion sensor','HP Printer','Insteon Camera','Light Bulbs LiFX Smart Bulb',\n",
    "'NEST Protect smoke alarm','Netatmo weather station','Samsung SmartCam','Smart Things','Triby Speaker', 'Withings Smart scale']"
   ]
  },
  {
   "cell_type": "code",
   "execution_count": 61,
   "metadata": {},
   "outputs": [
    {
     "name": "stdout",
     "output_type": "stream",
     "text": [
      "['Amazon Echo', 'Belkin Wemo switch', 'Belkin wemo motion sensor', 'HP Printer', 'Insteon Camera', 'Light Bulbs LiFX Smart Bulb', 'NEST Protect smoke alarm', 'Netatmo weather station', 'Samsung SmartCam', 'Smart Things', 'Triby Speaker', 'Withings Smart scale']\n",
      "[[ 85159      0      0      8     44     37      0      0     75      0\n",
      "       6      0]\n",
      " [    11  29233   8207  17999      5      0      0      0     25      7\n",
      "       2      0]\n",
      " [     3  33886  31171  18334      9      0      0      0     35     11\n",
      "       0      0]\n",
      " [    13      0      5  45087      7      1      2      0     42      0\n",
      "       0      2]\n",
      " [     9      0      0   4822 132490      0      0      0      0      0\n",
      "       1      0]\n",
      " [    12      0      0      0      1  17580      0      0      7      0\n",
      "       1      0]\n",
      " [     0      0      0      2      0      0     79      9      0      0\n",
      "       0      5]\n",
      " [     1      0      0      0      1      0   1039   9934      0      0\n",
      "      10   1892]\n",
      " [    57      1  11503  19098     22     10      2      1  40576      0\n",
      "       5      0]\n",
      " [     7     28      4      0      2      1      0      0      0  19836\n",
      "       0      0]\n",
      " [    13      0      0     13      3      0      0      0      8      0\n",
      "   16454      1]\n",
      " [     0      0      0      0      0      0      1      0      0      0\n",
      "       0     67]]\n"
     ]
    }
   ],
   "source": [
    "print(sorted(y_UNSW_7.unique()))\n",
    "cm = confusion_matrix(y_UNSW_7, y_pred_UNSW_7, labels=sorted(y_UNSW_7.unique()))\n",
    "print(cm)"
   ]
  },
  {
   "cell_type": "markdown",
   "metadata": {},
   "source": [
    "##### Week 8"
   ]
  },
  {
   "cell_type": "code",
   "execution_count": 62,
   "metadata": {},
   "outputs": [
    {
     "name": "stderr",
     "output_type": "stream",
     "text": [
      "C:\\Users\\Shogun-Sama\\AppData\\Local\\Temp\\ipykernel_6944\\2963681958.py:1: DtypeWarning: Columns (82,83,84,85) have mixed types. Specify dtype option on import or set low_memory=False.\n",
      "  df_UNSW_8 = pd.read_csv(r'D:\\Master\\datasets\\exp1-2\\combined\\UNSW\\week_8.csv')\n"
     ]
    }
   ],
   "source": [
    "df_UNSW_8 = pd.read_csv(r'D:\\Master\\datasets\\exp1-2\\combined\\UNSW\\week_8.csv')\n",
    "df_UNSW_8 = filter_label(df_UNSW_8, 1)\n",
    "df_UNSW_8_cut = features_selection(df_UNSW_8)\n",
    "X_UNSW_8, y_UNSW_8 = test_split(df_UNSW_8_cut)"
   ]
  },
  {
   "cell_type": "code",
   "execution_count": 63,
   "metadata": {},
   "outputs": [
    {
     "name": "stdout",
     "output_type": "stream",
     "text": [
      "accuracy:  0.7952513393612084\n",
      "f1:  0.8014496372189709\n",
      "precision:  0.8499874337097802\n",
      "recall:  0.7952513393612084\n"
     ]
    }
   ],
   "source": [
    "y_pred_UNSW_8 = clf_UNSW_1.predict(X_UNSW_8)\n",
    "\n",
    "print('accuracy: ', accuracy_score(y_UNSW_8, y_pred_UNSW_8))\n",
    "print('f1: ', f1_score(y_UNSW_8, y_pred_UNSW_8, average='weighted'))\n",
    "print('precision: ', precision_score(y_UNSW_8, y_pred_UNSW_8, average='weighted'))\n",
    "print('recall: ', recall_score(y_UNSW_8, y_pred_UNSW_8, average='weighted'))"
   ]
  },
  {
   "cell_type": "code",
   "execution_count": 64,
   "metadata": {},
   "outputs": [
    {
     "name": "stdout",
     "output_type": "stream",
     "text": [
      "['Amazon Echo', 'Belkin Wemo switch', 'Belkin wemo motion sensor', 'HP Printer', 'Insteon Camera', 'Light Bulbs LiFX Smart Bulb', 'NEST Protect smoke alarm', 'Netatmo weather station', 'Samsung SmartCam', 'Smart Things', 'Triby Speaker', 'Withings Smart scale']\n",
      "[[ 77400      0     16    266    560     25      9      2    677      0\n",
      "     196      0]\n",
      " [    10  32769   4270  17934     12      0      0      1     82      7\n",
      "      12      0]\n",
      " [    12  31388  46564  18244     23      0      2      0    336    454\n",
      "      10      0]\n",
      " [    80      0      0  48098     61      0     14      0    629      0\n",
      "      31      0]\n",
      " [     2      0      1   4816 133667      0      0      0      0      0\n",
      "       1      0]\n",
      " [    16      0      0     11      1  18100      1      4      3      0\n",
      "      21      0]\n",
      " [     0      0      0      2      0      0     72      6      0      0\n",
      "       0      7]\n",
      " [     0      0      0      1      0      0    884  10303      0      0\n",
      "       0   2042]\n",
      " [    65      2  11435  19066     22     12      4      2  41294      0\n",
      "       7      0]\n",
      " [     3      0      0      0      0      0      0      0      0  19760\n",
      "       0      0]\n",
      " [     5      0      0      0      3      1      0      0      1      0\n",
      "   13955      0]\n",
      " [     0      0      0      0      0      0      0      2      0      0\n",
      "       0     68]]\n"
     ]
    }
   ],
   "source": [
    "print(sorted(y_UNSW_8.unique()))\n",
    "cm = confusion_matrix(y_UNSW_8, y_pred_UNSW_8, labels=sorted(y_UNSW_8.unique()))\n",
    "print(cm)"
   ]
  },
  {
   "cell_type": "code",
   "execution_count": 65,
   "metadata": {},
   "outputs": [
    {
     "name": "stdout",
     "output_type": "stream",
     "text": [
      "row_0\n",
      "Amazon Echo                    0.997513\n",
      "Belkin Wemo switch             0.510747\n",
      "Belkin wemo motion sensor      0.747584\n",
      "HP Printer                     0.443553\n",
      "Insteon Camera                 0.994924\n",
      "Light Bulbs LiFX Smart Bulb    0.997905\n",
      "NEST Protect smoke alarm       0.896552\n",
      "Netatmo weather station        0.998353\n",
      "Samsung SmartCam               0.959835\n",
      "Smart Things                   0.977202\n",
      "Triby Speaker                  0.980468\n",
      "Withings Smart scale           0.964573\n",
      "dtype: float64\n"
     ]
    }
   ],
   "source": [
    "def classwise_accuracy():\n",
    "   a = pd.crosstab(y_pred_UNSW_8,y_UNSW_8)\n",
    "   print(a.max(axis=1)/a.sum(axis=1))\n",
    "classwise_accuracy()"
   ]
  },
  {
   "cell_type": "code",
   "execution_count": 66,
   "metadata": {},
   "outputs": [
    {
     "name": "stdout",
     "output_type": "stream",
     "text": [
      "                             precision    recall  f1-score   support\n",
      "\n",
      "                Amazon Echo       1.00      0.98      0.99     79151\n",
      "         Belkin Wemo switch       0.51      0.59      0.55     55097\n",
      "  Belkin wemo motion sensor       0.75      0.48      0.58     97033\n",
      "                 HP Printer       0.44      0.98      0.61     48913\n",
      "             Insteon Camera       0.99      0.97      0.98    138487\n",
      "Light Bulbs LiFX Smart Bulb       1.00      1.00      1.00     18157\n",
      "   NEST Protect smoke alarm       0.07      0.83      0.13        87\n",
      "    Netatmo weather station       1.00      0.78      0.87     13230\n",
      "           Samsung SmartCam       0.96      0.57      0.72     71909\n",
      "               Smart Things       0.98      1.00      0.99     19763\n",
      "              Triby Speaker       0.98      1.00      0.99     13965\n",
      "       Withings Smart scale       0.03      0.97      0.06        70\n",
      "\n",
      "                   accuracy                           0.80    555862\n",
      "                  macro avg       0.73      0.85      0.71    555862\n",
      "               weighted avg       0.85      0.80      0.80    555862\n",
      "\n"
     ]
    }
   ],
   "source": [
    "print(classification_report(y_UNSW_8, y_pred_UNSW_8,labels=sorted(y_UNSW_8.unique())))"
   ]
  }
 ],
 "metadata": {
  "kernelspec": {
   "display_name": "Python 3.9.13 ('codes-and-scripts': venv)",
   "language": "python",
   "name": "python3"
  },
  "language_info": {
   "codemirror_mode": {
    "name": "ipython",
    "version": 3
   },
   "file_extension": ".py",
   "mimetype": "text/x-python",
   "name": "python",
   "nbconvert_exporter": "python",
   "pygments_lexer": "ipython3",
   "version": "3.9.13"
  },
  "orig_nbformat": 4,
  "vscode": {
   "interpreter": {
    "hash": "149e89fed1c8bc5fc8673e9d888b5fb9d8ebeaeba3c799b6b7896dc6bbb91216"
   }
  }
 },
 "nbformat": 4,
 "nbformat_minor": 2
}
